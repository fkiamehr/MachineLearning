{
  "cells": [
    {
      "cell_type": "code",
      "execution_count": 1,
      "metadata": {
        "id": "lnczbtashn2u"
      },
      "outputs": [
        {
          "name": "stderr",
          "output_type": "stream",
          "text": [
            "/var/folders/8c/_d448xqd3jv95wsy13gvbxn40000gn/T/ipykernel_9555/367039837.py:10: DeprecationWarning: `set_matplotlib_formats` is deprecated since IPython 7.23, directly use `matplotlib_inline.backend_inline.set_matplotlib_formats()`\n",
            "  set_matplotlib_formats('svg', 'pdf') # For export\n"
          ]
        }
      ],
      "source": [
        "import os\n",
        "import math\n",
        "import numpy as np\n",
        "import time\n",
        "\n",
        "\n",
        "import matplotlib.pyplot as plt\n",
        "%matplotlib inline\n",
        "from IPython.display import set_matplotlib_formats\n",
        "set_matplotlib_formats('svg', 'pdf') # For export\n",
        "from matplotlib.colors import to_rgba\n",
        "import seaborn as sns\n",
        "sns.set()\n",
        "\n",
        "## Progress bar\n",
        "from tqdm.notebook import tqdm"
      ]
    },
    {
      "cell_type": "markdown",
      "metadata": {
        "id": "8JRrlwWTiFMX"
      },
      "source": [
        "# The Basics of Pytorch"
      ]
    },
    {
      "cell_type": "code",
      "execution_count": 2,
      "metadata": {
        "colab": {
          "base_uri": "https://localhost:8080/"
        },
        "id": "8Hd43MbBiAGm",
        "outputId": "d2a3b805-e56c-45a4-b25c-a90eb39a7d86"
      },
      "outputs": [
        {
          "name": "stdout",
          "output_type": "stream",
          "text": [
            "torch version 1.12.1\n"
          ]
        },
        {
          "name": "stderr",
          "output_type": "stream",
          "text": [
            "/Users/mobinnesari/opt/anaconda3/envs/Synaptic/lib/python3.10/site-packages/tqdm/auto.py:21: TqdmWarning: IProgress not found. Please update jupyter and ipywidgets. See https://ipywidgets.readthedocs.io/en/stable/user_install.html\n",
            "  from .autonotebook import tqdm as notebook_tqdm\n"
          ]
        }
      ],
      "source": [
        "import torch\n",
        "print('torch version', torch.__version__)"
      ]
    },
    {
      "cell_type": "markdown",
      "metadata": {
        "id": "lwUYPbKciUJk"
      },
      "source": [
        "## Tensor\n",
        "\n",
        "\n",
        "\n",
        "*   Are the PyTorch equivalent to Numpy arrays,\n",
        "*    With the addition to also have support for GPU acceleration \n",
        "\n",
        "\n",
        "The name “tensor” is a generalization of concepts you already know. For instance, a vector is a 1-D tensor, and a matrix a 2-D tensor. When working with neural networks, we will use tensors of various shapes and number of dimensions.\n",
        "\n",
        "\n",
        "\n",
        "\n"
      ]
    },
    {
      "cell_type": "markdown",
      "metadata": {
        "id": "wx_aomIGikdn"
      },
      "source": [
        "### Initialization"
      ]
    },
    {
      "cell_type": "code",
      "execution_count": 11,
      "metadata": {
        "id": "wSWt0K7oCEeu"
      },
      "outputs": [],
      "source": [
        "x = torch.Tensor(2,2)"
      ]
    },
    {
      "cell_type": "code",
      "execution_count": 12,
      "metadata": {
        "colab": {
          "base_uri": "https://localhost:8080/"
        },
        "id": "Lphria0gjJuG",
        "outputId": "150d7673-774c-4de8-debd-93d49f378901"
      },
      "outputs": [
        {
          "data": {
            "text/plain": [
              "tensor([[0., 0.],\n",
              "        [0., 0.]])"
            ]
          },
          "execution_count": 12,
          "metadata": {},
          "output_type": "execute_result"
        }
      ],
      "source": [
        "x"
      ]
    },
    {
      "cell_type": "code",
      "execution_count": 13,
      "metadata": {
        "id": "B8HGedsNCh4v"
      },
      "outputs": [],
      "source": [
        "arr_list = [1,2,3]"
      ]
    },
    {
      "cell_type": "code",
      "execution_count": 14,
      "metadata": {
        "colab": {
          "base_uri": "https://localhost:8080/"
        },
        "id": "FhNWPLjHCPIw",
        "outputId": "a98430d1-e972-4f1d-af21-8baac505b9b8"
      },
      "outputs": [
        {
          "data": {
            "text/plain": [
              "tensor([1., 2., 3.])"
            ]
          },
          "execution_count": 14,
          "metadata": {},
          "output_type": "execute_result"
        }
      ],
      "source": [
        "torch.Tensor(arr_list)"
      ]
    },
    {
      "cell_type": "code",
      "execution_count": 15,
      "metadata": {
        "colab": {
          "base_uri": "https://localhost:8080/"
        },
        "id": "ELakt9-_CqPW",
        "outputId": "96be5dd8-1e9e-4879-9472-15e56aee0637"
      },
      "outputs": [
        {
          "data": {
            "text/plain": [
              "tensor([[0., 0.],\n",
              "        [0., 0.]])"
            ]
          },
          "execution_count": 15,
          "metadata": {},
          "output_type": "execute_result"
        }
      ],
      "source": [
        "torch.Tensor(2,2)"
      ]
    },
    {
      "cell_type": "markdown",
      "metadata": {
        "id": "wfKPxoPqjJ9B"
      },
      "source": [
        "\n",
        "\n",
        "*   `torch.zeros`: Creates a tensor filled with zeros\n",
        "*   `torch.ones`: Creates a tensor filled with ones\n",
        "*   `torch.rand`: Creates a tensor with random values uniformly sampled between 0 and 1\n",
        "*   `torch.randn`: Creates a tensor with random values sampled from a normal distribution with mean 0 and variance 1\n",
        "*  `torch.Tensor` (input list): Creates a tensor from the list elements you provide\n",
        "\n",
        "\n",
        "\n",
        "\n",
        "\n",
        "\n"
      ]
    },
    {
      "cell_type": "code",
      "execution_count": 16,
      "metadata": {
        "colab": {
          "base_uri": "https://localhost:8080/"
        },
        "id": "2DlDABrqFBbg",
        "outputId": "c23fc1d5-df8e-4c66-8d16-21e744cdb9e5"
      },
      "outputs": [
        {
          "data": {
            "text/plain": [
              "tensor([[0., 0.],\n",
              "        [0., 0.]])"
            ]
          },
          "execution_count": 16,
          "metadata": {},
          "output_type": "execute_result"
        }
      ],
      "source": [
        "torch.zeros(2,2)"
      ]
    },
    {
      "cell_type": "code",
      "execution_count": 19,
      "metadata": {
        "colab": {
          "base_uri": "https://localhost:8080/"
        },
        "id": "nsRsLy9gFBXn",
        "outputId": "f98461bd-8a55-4dd3-d312-38f49ee1ffb8"
      },
      "outputs": [
        {
          "data": {
            "text/plain": [
              "tensor([[1., 1., 1.],\n",
              "        [1., 1., 1.]])"
            ]
          },
          "execution_count": 19,
          "metadata": {},
          "output_type": "execute_result"
        }
      ],
      "source": [
        "torch.ones(2,3)"
      ]
    },
    {
      "cell_type": "code",
      "execution_count": 20,
      "metadata": {
        "colab": {
          "base_uri": "https://localhost:8080/"
        },
        "id": "qtm-cj-qFBTc",
        "outputId": "5a23b5a8-88bd-4f56-8305-f79733fe690b"
      },
      "outputs": [
        {
          "data": {
            "text/plain": [
              "tensor([[0.0608, 0.9501, 0.4329],\n",
              "        [0.5130, 0.2672, 0.9567]])"
            ]
          },
          "execution_count": 20,
          "metadata": {},
          "output_type": "execute_result"
        }
      ],
      "source": [
        "torch.rand(2,3)"
      ]
    },
    {
      "cell_type": "code",
      "execution_count": 21,
      "metadata": {
        "colab": {
          "base_uri": "https://localhost:8080/"
        },
        "id": "licc9jcrFBNe",
        "outputId": "7fa74dd5-c0c8-4090-bb96-5bb007ed0208"
      },
      "outputs": [
        {
          "data": {
            "text/plain": [
              "tensor([[ 0.6653, -0.1923,  1.1210],\n",
              "        [-0.3786,  0.2490,  0.8172]])"
            ]
          },
          "execution_count": 21,
          "metadata": {},
          "output_type": "execute_result"
        }
      ],
      "source": [
        "torch.randn(2,3)"
      ]
    },
    {
      "cell_type": "code",
      "execution_count": null,
      "metadata": {
        "id": "F3YgexenFBCy"
      },
      "outputs": [],
      "source": []
    },
    {
      "cell_type": "markdown",
      "metadata": {
        "id": "jDuNxp6Pj8YK"
      },
      "source": [
        "### Tensor to Numpy, and Numpy to Tensor"
      ]
    },
    {
      "cell_type": "markdown",
      "metadata": {
        "id": "KOEPSMPWEg_e"
      },
      "source": [
        "#### numpy to tensor"
      ]
    },
    {
      "cell_type": "code",
      "execution_count": 22,
      "metadata": {
        "id": "EHXHYsaLEaa4"
      },
      "outputs": [],
      "source": [
        "np_arr = np.array([[1,2], [3,4]])"
      ]
    },
    {
      "cell_type": "code",
      "execution_count": 23,
      "metadata": {
        "colab": {
          "base_uri": "https://localhost:8080/"
        },
        "id": "PMYmYk3dEf7w",
        "outputId": "1a289bc2-1120-4f35-a8aa-e261fdc8f242"
      },
      "outputs": [
        {
          "data": {
            "text/plain": [
              "array([[1, 2],\n",
              "       [3, 4]])"
            ]
          },
          "execution_count": 23,
          "metadata": {},
          "output_type": "execute_result"
        }
      ],
      "source": [
        "np_arr"
      ]
    },
    {
      "cell_type": "code",
      "execution_count": 24,
      "metadata": {
        "colab": {
          "base_uri": "https://localhost:8080/"
        },
        "id": "JArVAohbE49m",
        "outputId": "b4b68719-6d83-4552-b2a5-01cdb6533e3e"
      },
      "outputs": [
        {
          "data": {
            "text/plain": [
              "(2, 2)"
            ]
          },
          "execution_count": 24,
          "metadata": {},
          "output_type": "execute_result"
        }
      ],
      "source": [
        "np_arr.shape"
      ]
    },
    {
      "cell_type": "code",
      "execution_count": 25,
      "metadata": {
        "id": "yNYgf2SGE8Cu"
      },
      "outputs": [],
      "source": [
        "t = torch.from_numpy(np_arr)"
      ]
    },
    {
      "cell_type": "code",
      "execution_count": 26,
      "metadata": {
        "colab": {
          "base_uri": "https://localhost:8080/"
        },
        "id": "E9nkVCJxFBgd",
        "outputId": "3bc199ae-4246-43e4-e781-4426a1370c48"
      },
      "outputs": [
        {
          "data": {
            "text/plain": [
              "tensor([[1, 2],\n",
              "        [3, 4]])"
            ]
          },
          "execution_count": 26,
          "metadata": {},
          "output_type": "execute_result"
        }
      ],
      "source": [
        "t"
      ]
    },
    {
      "cell_type": "markdown",
      "metadata": {
        "id": "qXq32dEuEkeM"
      },
      "source": [
        "#### tensor to numpy"
      ]
    },
    {
      "cell_type": "code",
      "execution_count": 29,
      "metadata": {
        "id": "3g3Xfk55EaXA"
      },
      "outputs": [],
      "source": [
        "t = torch.Tensor([1,3])"
      ]
    },
    {
      "cell_type": "code",
      "execution_count": 30,
      "metadata": {
        "colab": {
          "base_uri": "https://localhost:8080/"
        },
        "id": "KPmaPLA8E9Td",
        "outputId": "a504873a-20c4-453a-8761-0feee54926f1"
      },
      "outputs": [
        {
          "data": {
            "text/plain": [
              "tensor([1., 3.])"
            ]
          },
          "execution_count": 30,
          "metadata": {},
          "output_type": "execute_result"
        }
      ],
      "source": [
        "t"
      ]
    },
    {
      "cell_type": "code",
      "execution_count": 31,
      "metadata": {
        "id": "YK8Jv5lIFPHz"
      },
      "outputs": [],
      "source": [
        "arr = t.numpy()"
      ]
    },
    {
      "cell_type": "code",
      "execution_count": 32,
      "metadata": {
        "colab": {
          "base_uri": "https://localhost:8080/"
        },
        "id": "AmVBvKq3FVmH",
        "outputId": "a867c9b1-669d-4ef8-ab9d-df015ac62257"
      },
      "outputs": [
        {
          "data": {
            "text/plain": [
              "array([1., 3.], dtype=float32)"
            ]
          },
          "execution_count": 32,
          "metadata": {},
          "output_type": "execute_result"
        }
      ],
      "source": [
        "arr"
      ]
    },
    {
      "cell_type": "markdown",
      "metadata": {
        "id": "GYPngY0EEqRv"
      },
      "source": [
        "**Be careful !**"
      ]
    },
    {
      "cell_type": "code",
      "execution_count": 33,
      "metadata": {
        "id": "IJMDYaZQE2PY"
      },
      "outputs": [],
      "source": [
        "arr = np.array([1,2,3])"
      ]
    },
    {
      "cell_type": "code",
      "execution_count": 34,
      "metadata": {
        "colab": {
          "base_uri": "https://localhost:8080/"
        },
        "id": "nF6uVme3GdBa",
        "outputId": "e2d68aa8-8f4f-48b4-a3c2-f24d704a6dbb"
      },
      "outputs": [
        {
          "data": {
            "text/plain": [
              "array([1, 2, 3])"
            ]
          },
          "execution_count": 34,
          "metadata": {},
          "output_type": "execute_result"
        }
      ],
      "source": [
        "arr"
      ]
    },
    {
      "cell_type": "code",
      "execution_count": 35,
      "metadata": {
        "id": "aP6QLy-CGd6J"
      },
      "outputs": [],
      "source": [
        "t = torch.from_numpy(arr)"
      ]
    },
    {
      "cell_type": "code",
      "execution_count": 36,
      "metadata": {
        "id": "WnVSGvASGggz"
      },
      "outputs": [],
      "source": [
        "t +=1"
      ]
    },
    {
      "cell_type": "code",
      "execution_count": 37,
      "metadata": {
        "colab": {
          "base_uri": "https://localhost:8080/"
        },
        "id": "WfujqtfyGjs-",
        "outputId": "aad868ba-9320-421d-b25d-1c817644ec39"
      },
      "outputs": [
        {
          "data": {
            "text/plain": [
              "tensor([2, 3, 4])"
            ]
          },
          "execution_count": 37,
          "metadata": {},
          "output_type": "execute_result"
        }
      ],
      "source": [
        "t"
      ]
    },
    {
      "cell_type": "code",
      "execution_count": 38,
      "metadata": {
        "colab": {
          "base_uri": "https://localhost:8080/"
        },
        "id": "v46WnLwKGkva",
        "outputId": "ccac0fdc-0c08-478a-ad7d-a5e10ddb606f"
      },
      "outputs": [
        {
          "data": {
            "text/plain": [
              "array([2, 3, 4])"
            ]
          },
          "execution_count": 38,
          "metadata": {},
          "output_type": "execute_result"
        }
      ],
      "source": [
        "arr"
      ]
    },
    {
      "cell_type": "code",
      "execution_count": 39,
      "metadata": {
        "id": "amqFs5w9G1zT"
      },
      "outputs": [],
      "source": [
        "t = torch.Tensor([1,2,3])"
      ]
    },
    {
      "cell_type": "code",
      "execution_count": 40,
      "metadata": {
        "colab": {
          "base_uri": "https://localhost:8080/"
        },
        "id": "sKMmFcy9G1wJ",
        "outputId": "f138490a-b3d0-44ef-d059-f7e66c18ff89"
      },
      "outputs": [
        {
          "data": {
            "text/plain": [
              "tensor([1., 2., 3.])"
            ]
          },
          "execution_count": 40,
          "metadata": {},
          "output_type": "execute_result"
        }
      ],
      "source": [
        "t"
      ]
    },
    {
      "cell_type": "code",
      "execution_count": 41,
      "metadata": {
        "id": "6XwQtvADG1tj"
      },
      "outputs": [],
      "source": [
        "arr = t.numpy()"
      ]
    },
    {
      "cell_type": "code",
      "execution_count": 42,
      "metadata": {
        "colab": {
          "base_uri": "https://localhost:8080/"
        },
        "id": "qmFQR_AFG9eq",
        "outputId": "b343d30e-842b-42b0-8deb-5b82f24e51f5"
      },
      "outputs": [
        {
          "data": {
            "text/plain": [
              "array([1., 2., 3.], dtype=float32)"
            ]
          },
          "execution_count": 42,
          "metadata": {},
          "output_type": "execute_result"
        }
      ],
      "source": [
        "arr"
      ]
    },
    {
      "cell_type": "code",
      "execution_count": 43,
      "metadata": {
        "id": "wfUuM2e8G-Xs"
      },
      "outputs": [],
      "source": [
        "arr +=1 "
      ]
    },
    {
      "cell_type": "code",
      "execution_count": 44,
      "metadata": {
        "colab": {
          "base_uri": "https://localhost:8080/"
        },
        "id": "6nOKo7jfG_vM",
        "outputId": "da7f2811-e5c6-42b9-fbcd-bf5c8737ca2a"
      },
      "outputs": [
        {
          "data": {
            "text/plain": [
              "array([2., 3., 4.], dtype=float32)"
            ]
          },
          "execution_count": 44,
          "metadata": {},
          "output_type": "execute_result"
        }
      ],
      "source": [
        "arr"
      ]
    },
    {
      "cell_type": "code",
      "execution_count": 45,
      "metadata": {
        "colab": {
          "base_uri": "https://localhost:8080/"
        },
        "id": "eldbDaqNHAfY",
        "outputId": "ce0ccfce-37d6-427a-89d2-013b556fc1cd"
      },
      "outputs": [
        {
          "data": {
            "text/plain": [
              "tensor([2., 3., 4.])"
            ]
          },
          "execution_count": 45,
          "metadata": {},
          "output_type": "execute_result"
        }
      ],
      "source": [
        "t"
      ]
    },
    {
      "cell_type": "markdown",
      "metadata": {
        "id": "QozcZCd7kIfb"
      },
      "source": [
        "### Operations"
      ]
    },
    {
      "cell_type": "code",
      "execution_count": 46,
      "metadata": {
        "id": "rEY6k3pd_r-W"
      },
      "outputs": [],
      "source": [
        "# define x1 , x2\n",
        "x1 = torch.rand(2,2)\n",
        "x2 = torch.rand(2, 2)"
      ]
    },
    {
      "cell_type": "code",
      "execution_count": 47,
      "metadata": {
        "colab": {
          "base_uri": "https://localhost:8080/"
        },
        "id": "eD8H9c8sHQv9",
        "outputId": "d980f8f1-ad7d-4a2c-bd67-38e70deec47f"
      },
      "outputs": [
        {
          "name": "stdout",
          "output_type": "stream",
          "text": [
            "x1\n",
            "tensor([[0.8486, 0.0320],\n",
            "        [0.1221, 0.0689]])\n",
            "x2\n",
            "tensor([[0.8962, 0.3452],\n",
            "        [0.9666, 0.5056]])\n"
          ]
        }
      ],
      "source": [
        "print('x1')\n",
        "print(x1)\n",
        "print('x2')\n",
        "print(x2)"
      ]
    },
    {
      "cell_type": "code",
      "execution_count": 48,
      "metadata": {
        "colab": {
          "base_uri": "https://localhost:8080/"
        },
        "id": "ITEg2MVJC2Z0",
        "outputId": "ef77a7a6-8527-4a3a-b780-c0bf715c77f7"
      },
      "outputs": [
        {
          "data": {
            "text/plain": [
              "tensor([[1.7448, 0.3771],\n",
              "        [1.0887, 0.5744]])"
            ]
          },
          "execution_count": 48,
          "metadata": {},
          "output_type": "execute_result"
        }
      ],
      "source": [
        "# sum\n",
        "x1 + x2"
      ]
    },
    {
      "cell_type": "code",
      "execution_count": 49,
      "metadata": {
        "colab": {
          "base_uri": "https://localhost:8080/"
        },
        "id": "LrDGb61UHQcs",
        "outputId": "ac905a52-f4ea-415e-cb80-c81fb6669b02"
      },
      "outputs": [
        {
          "data": {
            "text/plain": [
              "tensor([[1.7448, 0.3771],\n",
              "        [1.0887, 0.5744]])"
            ]
          },
          "execution_count": 49,
          "metadata": {},
          "output_type": "execute_result"
        }
      ],
      "source": [
        "torch.add(x1, x2)"
      ]
    },
    {
      "cell_type": "code",
      "execution_count": 50,
      "metadata": {
        "colab": {
          "base_uri": "https://localhost:8080/"
        },
        "id": "TNO9OIfzHk2p",
        "outputId": "909887b7-10d5-4199-caab-967ffc6ff58a"
      },
      "outputs": [
        {
          "data": {
            "text/plain": [
              "tensor([[0.7606, 0.0110],\n",
              "        [0.1180, 0.0348]])"
            ]
          },
          "execution_count": 50,
          "metadata": {},
          "output_type": "execute_result"
        }
      ],
      "source": [
        "x1 * x2"
      ]
    },
    {
      "cell_type": "code",
      "execution_count": 51,
      "metadata": {
        "colab": {
          "base_uri": "https://localhost:8080/"
        },
        "id": "baKUXzyJC3LB",
        "outputId": "b2095da8-6bd2-44a2-c618-4a658636bbb1"
      },
      "outputs": [
        {
          "data": {
            "text/plain": [
              "tensor([[0.7606, 0.0110],\n",
              "        [0.1180, 0.0348]])"
            ]
          },
          "execution_count": 51,
          "metadata": {},
          "output_type": "execute_result"
        }
      ],
      "source": [
        "# mul\n",
        "torch.mul(x1, x2)"
      ]
    },
    {
      "cell_type": "markdown",
      "metadata": {
        "id": "3yTHDQsyC4RV"
      },
      "source": [
        "#### Inplace opt"
      ]
    },
    {
      "cell_type": "markdown",
      "metadata": {
        "id": "U0XX5MN-lge7"
      },
      "source": [
        "In-place operations are usually marked with a underscore postfix (e.g. “add_” instead of “add”)."
      ]
    },
    {
      "cell_type": "code",
      "execution_count": 52,
      "metadata": {
        "colab": {
          "base_uri": "https://localhost:8080/"
        },
        "id": "N6ZjOp9KIF7J",
        "outputId": "44f07ce3-fccc-42ef-abee-7c63edf9ad71"
      },
      "outputs": [
        {
          "data": {
            "text/plain": [
              "tensor([[0.8486, 0.0320],\n",
              "        [0.1221, 0.0689]])"
            ]
          },
          "execution_count": 52,
          "metadata": {},
          "output_type": "execute_result"
        }
      ],
      "source": [
        "x1"
      ]
    },
    {
      "cell_type": "code",
      "execution_count": 53,
      "metadata": {
        "colab": {
          "base_uri": "https://localhost:8080/"
        },
        "id": "ecSHgYa2k5MP",
        "outputId": "82b0ae91-36a3-4337-d975-b48b46bc2925"
      },
      "outputs": [
        {
          "data": {
            "text/plain": [
              "tensor([[1.7448, 0.3771],\n",
              "        [1.0887, 0.5744]])"
            ]
          },
          "execution_count": 53,
          "metadata": {},
          "output_type": "execute_result"
        }
      ],
      "source": [
        "# sum inplace\n",
        "x1.add_(x2)"
      ]
    },
    {
      "cell_type": "code",
      "execution_count": 54,
      "metadata": {},
      "outputs": [
        {
          "data": {
            "text/plain": [
              "tensor([[1.7448, 0.3771],\n",
              "        [1.0887, 0.5744]])"
            ]
          },
          "execution_count": 54,
          "metadata": {},
          "output_type": "execute_result"
        }
      ],
      "source": [
        "x1"
      ]
    },
    {
      "cell_type": "code",
      "execution_count": 55,
      "metadata": {
        "colab": {
          "base_uri": "https://localhost:8080/"
        },
        "id": "M4l9eoS8C7fV",
        "outputId": "3db4660c-88cd-43d4-d3bc-f33813cfe7ef"
      },
      "outputs": [
        {
          "data": {
            "text/plain": [
              "tensor([[1.5637, 0.1302],\n",
              "        [1.0523, 0.2904]])"
            ]
          },
          "execution_count": 55,
          "metadata": {},
          "output_type": "execute_result"
        }
      ],
      "source": [
        "# mul inplace\n",
        "x1.mul_(x2)"
      ]
    },
    {
      "cell_type": "code",
      "execution_count": 56,
      "metadata": {},
      "outputs": [
        {
          "data": {
            "text/plain": [
              "tensor([[1.5637, 0.1302],\n",
              "        [1.0523, 0.2904]])"
            ]
          },
          "execution_count": 56,
          "metadata": {},
          "output_type": "execute_result"
        }
      ],
      "source": [
        "x1"
      ]
    },
    {
      "cell_type": "code",
      "execution_count": 57,
      "metadata": {
        "id": "tHY3G4J9IZdG"
      },
      "outputs": [],
      "source": [
        "arr = np.arange(4)"
      ]
    },
    {
      "cell_type": "code",
      "execution_count": 58,
      "metadata": {
        "colab": {
          "base_uri": "https://localhost:8080/"
        },
        "id": "RjhUi7jMIts5",
        "outputId": "5e3e9292-28ea-4e17-d7df-d17cce5e446f"
      },
      "outputs": [
        {
          "data": {
            "text/plain": [
              "(4,)"
            ]
          },
          "execution_count": 58,
          "metadata": {},
          "output_type": "execute_result"
        }
      ],
      "source": [
        "arr.shape"
      ]
    },
    {
      "cell_type": "code",
      "execution_count": 59,
      "metadata": {},
      "outputs": [
        {
          "data": {
            "text/plain": [
              "array([0, 1, 2, 3])"
            ]
          },
          "execution_count": 59,
          "metadata": {},
          "output_type": "execute_result"
        }
      ],
      "source": [
        "arr"
      ]
    },
    {
      "cell_type": "code",
      "execution_count": 60,
      "metadata": {
        "id": "kAQ4rGaeIyuU"
      },
      "outputs": [],
      "source": [
        "t = torch.arange(4)"
      ]
    },
    {
      "cell_type": "code",
      "execution_count": 61,
      "metadata": {
        "colab": {
          "base_uri": "https://localhost:8080/"
        },
        "id": "Qzlptx9OI4b3",
        "outputId": "25d37d68-3abb-4906-cd33-d69b7c8cbb45"
      },
      "outputs": [
        {
          "data": {
            "text/plain": [
              "torch.Size([4])"
            ]
          },
          "execution_count": 61,
          "metadata": {},
          "output_type": "execute_result"
        }
      ],
      "source": [
        "t.size()"
      ]
    },
    {
      "cell_type": "code",
      "execution_count": 62,
      "metadata": {},
      "outputs": [
        {
          "data": {
            "text/plain": [
              "tensor([0, 1, 2, 3])"
            ]
          },
          "execution_count": 62,
          "metadata": {},
          "output_type": "execute_result"
        }
      ],
      "source": [
        "t"
      ]
    },
    {
      "cell_type": "markdown",
      "metadata": {
        "id": "448HHyBMC_l1"
      },
      "source": [
        "#### view"
      ]
    },
    {
      "cell_type": "markdown",
      "metadata": {
        "id": "b6cM0InblBnA"
      },
      "source": [
        "Another common operation aims at changing the shape of a tensor. A tensor of size (2,3) can be re-organized to any other shape with the same number of elements (e.g. a tensor of size (6), or (3,2), …). In PyTorch, this operation is called `view`:"
      ]
    },
    {
      "cell_type": "code",
      "execution_count": 63,
      "metadata": {
        "id": "GUiBAz5JDgzG"
      },
      "outputs": [],
      "source": [
        "# np example"
      ]
    },
    {
      "cell_type": "code",
      "execution_count": 64,
      "metadata": {
        "id": "7G6DibAGJQfI"
      },
      "outputs": [],
      "source": [
        "arr = np.arange(6)"
      ]
    },
    {
      "cell_type": "code",
      "execution_count": 65,
      "metadata": {
        "colab": {
          "base_uri": "https://localhost:8080/"
        },
        "id": "JW-HVJr7JVFa",
        "outputId": "609464f9-f770-4fcc-f863-35461d45fe6b"
      },
      "outputs": [
        {
          "data": {
            "text/plain": [
              "array([0, 1, 2, 3, 4, 5])"
            ]
          },
          "execution_count": 65,
          "metadata": {},
          "output_type": "execute_result"
        }
      ],
      "source": [
        "arr"
      ]
    },
    {
      "cell_type": "code",
      "execution_count": 66,
      "metadata": {
        "colab": {
          "base_uri": "https://localhost:8080/"
        },
        "id": "k6SIFmQ5JX8d",
        "outputId": "7c4c767a-ef85-46c9-b5e3-163229e434b1"
      },
      "outputs": [
        {
          "data": {
            "text/plain": [
              "array([[0, 1],\n",
              "       [2, 3],\n",
              "       [4, 5]])"
            ]
          },
          "execution_count": 66,
          "metadata": {},
          "output_type": "execute_result"
        }
      ],
      "source": [
        "arr.reshape(-1, 2)"
      ]
    },
    {
      "cell_type": "code",
      "execution_count": 67,
      "metadata": {
        "id": "pjj3Fz8bDgus"
      },
      "outputs": [],
      "source": [
        "# torch example\n",
        "t = torch.arange(8)"
      ]
    },
    {
      "cell_type": "code",
      "execution_count": 68,
      "metadata": {
        "colab": {
          "base_uri": "https://localhost:8080/"
        },
        "id": "uzzmLPSwKMwj",
        "outputId": "0f918e97-35d6-4570-e170-e7e1610b9f19"
      },
      "outputs": [
        {
          "data": {
            "text/plain": [
              "tensor([0, 1, 2, 3, 4, 5, 6, 7])"
            ]
          },
          "execution_count": 68,
          "metadata": {},
          "output_type": "execute_result"
        }
      ],
      "source": [
        "t"
      ]
    },
    {
      "cell_type": "code",
      "execution_count": 69,
      "metadata": {
        "colab": {
          "base_uri": "https://localhost:8080/"
        },
        "id": "SZjaQRTLKPV8",
        "outputId": "8c74e7de-ded0-4646-fa64-2c08c16f9f4b"
      },
      "outputs": [
        {
          "data": {
            "text/plain": [
              "tensor([[0, 1, 2, 3],\n",
              "        [4, 5, 6, 7]])"
            ]
          },
          "execution_count": 69,
          "metadata": {},
          "output_type": "execute_result"
        }
      ],
      "source": [
        "t.view(-1,4)"
      ]
    },
    {
      "cell_type": "markdown",
      "metadata": {
        "id": "QSmCiApyDhjz"
      },
      "source": [
        "#### matmul (@)\n"
      ]
    },
    {
      "cell_type": "markdown",
      "metadata": {
        "id": "JWgXVcGAl5Pt"
      },
      "source": [
        "\n",
        "\n",
        "*   `torch.matmul`: Performs the matrix product over two tensors, where the specific behavior depends on the dimensions. If both inputs are matrices (2-dimensional tensors), it performs the standard matrix product. For higher dimensional inputs, the function supports broadcasting. Can also be written as a @ b, similar to numpy.\n",
        "\n",
        "\n",
        "\n",
        "\n",
        "\n",
        "\n",
        "\n",
        "\n"
      ]
    },
    {
      "cell_type": "code",
      "execution_count": 70,
      "metadata": {
        "id": "BvgzFUwvD8c6"
      },
      "outputs": [],
      "source": [
        "x1 = torch.rand(2,3)\n",
        "x2 = torch.rand(2,2)"
      ]
    },
    {
      "cell_type": "code",
      "execution_count": 71,
      "metadata": {
        "colab": {
          "base_uri": "https://localhost:8080/"
        },
        "id": "yNfKbgKNNt1R",
        "outputId": "8aad2355-a5bb-49f6-9ac8-8cb4a0f9eafc"
      },
      "outputs": [
        {
          "data": {
            "text/plain": [
              "torch.Size([2, 3])"
            ]
          },
          "execution_count": 71,
          "metadata": {},
          "output_type": "execute_result"
        }
      ],
      "source": [
        "x1.size()"
      ]
    },
    {
      "cell_type": "code",
      "execution_count": 72,
      "metadata": {
        "colab": {
          "base_uri": "https://localhost:8080/"
        },
        "id": "Vcaempf-OFup",
        "outputId": "84427fab-8664-4f13-e17f-216f4493414c"
      },
      "outputs": [
        {
          "data": {
            "text/plain": [
              "torch.Size([3, 2])"
            ]
          },
          "execution_count": 72,
          "metadata": {},
          "output_type": "execute_result"
        }
      ],
      "source": [
        "x1.T.size()"
      ]
    },
    {
      "cell_type": "code",
      "execution_count": 73,
      "metadata": {
        "colab": {
          "base_uri": "https://localhost:8080/"
        },
        "id": "h2-_kTTDD8aC",
        "outputId": "079f3974-b0f5-4798-8a2d-80b9eb203abc"
      },
      "outputs": [
        {
          "data": {
            "text/plain": [
              "tensor([[1.4416, 1.5950],\n",
              "        [1.5950, 1.9839]])"
            ]
          },
          "execution_count": 73,
          "metadata": {},
          "output_type": "execute_result"
        }
      ],
      "source": [
        "x1 @ x1.T"
      ]
    },
    {
      "cell_type": "code",
      "execution_count": 74,
      "metadata": {
        "colab": {
          "base_uri": "https://localhost:8080/"
        },
        "id": "yOS3YnGLD8Xc",
        "outputId": "aa944dc5-a4a8-44ae-d2f1-b3977c6a16e3"
      },
      "outputs": [
        {
          "data": {
            "text/plain": [
              "tensor([[0.2047, 0.3416, 0.1869],\n",
              "        [0.5109, 0.9266, 0.5012]])"
            ]
          },
          "execution_count": 74,
          "metadata": {},
          "output_type": "execute_result"
        }
      ],
      "source": [
        "x2 @ x1"
      ]
    },
    {
      "cell_type": "code",
      "execution_count": 75,
      "metadata": {
        "colab": {
          "base_uri": "https://localhost:8080/"
        },
        "id": "yslAdLICOUX2",
        "outputId": "e78125cd-9478-49d5-d349-1c0c4501ad2c"
      },
      "outputs": [
        {
          "data": {
            "text/plain": [
              "tensor([[0.2047, 0.3416, 0.1869],\n",
              "        [0.5109, 0.9266, 0.5012]])"
            ]
          },
          "execution_count": 75,
          "metadata": {},
          "output_type": "execute_result"
        }
      ],
      "source": [
        "torch.matmul(x2, x1)"
      ]
    },
    {
      "cell_type": "markdown",
      "metadata": {
        "id": "fBw3FU1KnFoL"
      },
      "source": [
        "### Indexing"
      ]
    },
    {
      "cell_type": "code",
      "execution_count": 76,
      "metadata": {
        "id": "b5RslEW5oB5C"
      },
      "outputs": [],
      "source": [
        "x = torch.arange(12).view(3, 4)"
      ]
    },
    {
      "cell_type": "code",
      "execution_count": 77,
      "metadata": {
        "colab": {
          "base_uri": "https://localhost:8080/"
        },
        "id": "quIIM-wtOrYL",
        "outputId": "b28ee02c-8975-4ae1-8cbe-12419d8583e7"
      },
      "outputs": [
        {
          "data": {
            "text/plain": [
              "tensor([[ 0,  1,  2,  3],\n",
              "        [ 4,  5,  6,  7],\n",
              "        [ 8,  9, 10, 11]])"
            ]
          },
          "execution_count": 77,
          "metadata": {},
          "output_type": "execute_result"
        }
      ],
      "source": [
        "x"
      ]
    },
    {
      "cell_type": "code",
      "execution_count": 79,
      "metadata": {
        "colab": {
          "base_uri": "https://localhost:8080/"
        },
        "id": "Wb-0-QClPL22",
        "outputId": "4dc0f77e-4c00-4495-ae81-653a5fb7d7ef"
      },
      "outputs": [
        {
          "data": {
            "text/plain": [
              "tensor([0, 1, 2, 3])"
            ]
          },
          "execution_count": 79,
          "metadata": {},
          "output_type": "execute_result"
        }
      ],
      "source": [
        "x[0,:]"
      ]
    },
    {
      "cell_type": "code",
      "execution_count": 80,
      "metadata": {
        "colab": {
          "base_uri": "https://localhost:8080/"
        },
        "id": "H2gUuBAgFgVY",
        "outputId": "8647e5d7-1517-4fd5-944a-05e9291849d3"
      },
      "outputs": [
        {
          "data": {
            "text/plain": [
              "tensor([0, 1])"
            ]
          },
          "execution_count": 80,
          "metadata": {},
          "output_type": "execute_result"
        }
      ],
      "source": [
        "x[0, :2]"
      ]
    },
    {
      "cell_type": "code",
      "execution_count": 81,
      "metadata": {
        "id": "_boL3WMXFgQQ"
      },
      "outputs": [],
      "source": [
        "column = x[:, 2]"
      ]
    },
    {
      "cell_type": "code",
      "execution_count": 82,
      "metadata": {
        "colab": {
          "base_uri": "https://localhost:8080/"
        },
        "id": "R92q4uaTQhma",
        "outputId": "57764d6f-e74e-4d72-fa42-8b6b1188d803"
      },
      "outputs": [
        {
          "data": {
            "text/plain": [
              "torch.Size([3])"
            ]
          },
          "execution_count": 82,
          "metadata": {},
          "output_type": "execute_result"
        }
      ],
      "source": [
        "column.size()"
      ]
    },
    {
      "cell_type": "code",
      "execution_count": 83,
      "metadata": {},
      "outputs": [
        {
          "data": {
            "text/plain": [
              "tensor([ 2,  6, 10])"
            ]
          },
          "execution_count": 83,
          "metadata": {},
          "output_type": "execute_result"
        }
      ],
      "source": [
        "column"
      ]
    },
    {
      "cell_type": "code",
      "execution_count": 84,
      "metadata": {
        "colab": {
          "base_uri": "https://localhost:8080/"
        },
        "id": "XZ0O4DuGFgKu",
        "outputId": "00415128-706e-4366-a42e-cf986c47e4e9"
      },
      "outputs": [
        {
          "data": {
            "text/plain": [
              "tensor([[ 1,  2,  3],\n",
              "        [ 5,  6,  7],\n",
              "        [ 9, 10, 11]])"
            ]
          },
          "execution_count": 84,
          "metadata": {},
          "output_type": "execute_result"
        }
      ],
      "source": [
        "x[:,1:]"
      ]
    },
    {
      "cell_type": "code",
      "execution_count": 85,
      "metadata": {
        "colab": {
          "base_uri": "https://localhost:8080/"
        },
        "id": "1ufdpk2lQqsK",
        "outputId": "537a79cf-31a6-4abd-934d-0ae7463926cf"
      },
      "outputs": [
        {
          "data": {
            "text/plain": [
              "tensor([[ 1,  3],\n",
              "        [ 5,  7],\n",
              "        [ 9, 11]])"
            ]
          },
          "execution_count": 85,
          "metadata": {},
          "output_type": "execute_result"
        }
      ],
      "source": [
        "x[:,[1,3]]"
      ]
    },
    {
      "cell_type": "markdown",
      "metadata": {
        "id": "tq0EMQOBqIm2"
      },
      "source": [
        "### Dynamic Computation Graph and Backpropagation"
      ]
    },
    {
      "cell_type": "markdown",
      "metadata": {
        "id": "7G9PXs9rqK36"
      },
      "source": [
        "\n",
        "\n",
        "*   Given an input X\n",
        "*   Define our function by manipulating that input, usually by matrix-multiplications with weight matrices and additions with so-called bias vectors\n",
        "*    This graph shows how to arrive at our output from our input.\n",
        "*   we can just do our manipulations, and PyTorch will keep track of that graph for us. Thus, we create a dynamic computation graph along the way.\n",
        "\n",
        "\n",
        "\n"
      ]
    },
    {
      "cell_type": "markdown",
      "metadata": {
        "id": "ADalz4EOrP5u"
      },
      "source": [
        "the only thing we have to do is to compute the output, and then we can ask PyTorch to automatically get the gradients.\n",
        "\n"
      ]
    },
    {
      "cell_type": "markdown",
      "metadata": {
        "id": "qJysC1zOtKJH"
      },
      "source": [
        "The first thing we have to do is to specify which tensors require gradients. By default, when we create a tensor, it does not require gradients.\n",
        "\n"
      ]
    },
    {
      "cell_type": "markdown",
      "metadata": {
        "id": "zL47GX3oybUk"
      },
      "source": [
        "#### requires_grad\n",
        "\n"
      ]
    },
    {
      "cell_type": "markdown",
      "metadata": {
        "id": "ZtGDdkySybKN"
      },
      "source": [
        "The `requires_grad` attribute tells autograd to track your operations. So if you want PyTorch to create a graph corresponding to these operations, you will have to set the requires_grad attribute of the Tensor to True."
      ]
    },
    {
      "cell_type": "code",
      "execution_count": null,
      "metadata": {
        "id": "r9zqeVLGzZzp"
      },
      "outputs": [],
      "source": [
        "x = torch.ones((2,2), requires_grad=True)"
      ]
    },
    {
      "cell_type": "code",
      "execution_count": null,
      "metadata": {
        "colab": {
          "base_uri": "https://localhost:8080/"
        },
        "id": "zMridB0mSm2b",
        "outputId": "dc79bc71-7811-4380-d295-a472138e69a8"
      },
      "outputs": [
        {
          "data": {
            "text/plain": [
              "tensor([[1., 1.],\n",
              "        [1., 1.]], requires_grad=True)"
            ]
          },
          "execution_count": 315,
          "metadata": {},
          "output_type": "execute_result"
        }
      ],
      "source": [
        "x"
      ]
    },
    {
      "cell_type": "code",
      "execution_count": null,
      "metadata": {
        "colab": {
          "base_uri": "https://localhost:8080/"
        },
        "id": "z0xBKK28Sd_f",
        "outputId": "b3b19958-a7e3-47a6-89e7-1fe3c417a88f"
      },
      "outputs": [
        {
          "data": {
            "text/plain": [
              "True"
            ]
          },
          "execution_count": 316,
          "metadata": {},
          "output_type": "execute_result"
        }
      ],
      "source": [
        "x.requires_grad"
      ]
    },
    {
      "cell_type": "code",
      "execution_count": null,
      "metadata": {
        "id": "B1zunvnvSd38"
      },
      "outputs": [],
      "source": []
    },
    {
      "cell_type": "markdown",
      "metadata": {
        "id": "hmQAj8ROzZum"
      },
      "source": [
        "\n",
        "\n",
        "*   The Tensors generated by applying any operations on other tensors, given that the for at least one input tensor `requires_grad = True`, then the resultant tensor will also have `requires_grad = True`.\n",
        "*   It is also helpful when in a network we don’t want to change the gradients and hence don’t want to update the weights associated with some tensors. Just setting `require_grad = False` the tensors won’t participate in the computation graph.\n",
        "\n",
        "\n"
      ]
    },
    {
      "cell_type": "code",
      "execution_count": null,
      "metadata": {
        "id": "GmTaeQP-UGsH"
      },
      "outputs": [],
      "source": [
        "t4 = torch.ones(2, requires_grad=True)"
      ]
    },
    {
      "cell_type": "code",
      "execution_count": null,
      "metadata": {
        "id": "Tvn-KLrENGqy"
      },
      "outputs": [],
      "source": [
        "t1 = torch.Tensor(2)\n",
        "t2 = torch.Tensor(2)"
      ]
    },
    {
      "cell_type": "code",
      "execution_count": null,
      "metadata": {
        "colab": {
          "base_uri": "https://localhost:8080/"
        },
        "id": "lOMG6cFaNJCL",
        "outputId": "62346250-dff4-4abc-b2de-b04a0065c779"
      },
      "outputs": [
        {
          "name": "stdout",
          "output_type": "stream",
          "text": [
            "t1\n",
            "tensor([6.1268e-33, 0.0000e+00])\n",
            "False\n",
            "t2\n",
            "tensor([6.1268e-33, 0.0000e+00])\n",
            "False\n"
          ]
        }
      ],
      "source": [
        "print('t1')\n",
        "print(t1)\n",
        "print(t1.requires_grad)\n",
        "print('t2')\n",
        "print(t2)\n",
        "print(t2.requires_grad)"
      ]
    },
    {
      "cell_type": "code",
      "execution_count": null,
      "metadata": {
        "id": "7nF4ObnSNbXo"
      },
      "outputs": [],
      "source": [
        "t3 = t1 + t2"
      ]
    },
    {
      "cell_type": "code",
      "execution_count": null,
      "metadata": {
        "colab": {
          "base_uri": "https://localhost:8080/"
        },
        "id": "x9h3HILgT0UG",
        "outputId": "68f94d62-b111-4065-a92b-5818569e4c53"
      },
      "outputs": [
        {
          "data": {
            "text/plain": [
              "False"
            ]
          },
          "execution_count": 322,
          "metadata": {},
          "output_type": "execute_result"
        }
      ],
      "source": [
        "t3.requires_grad"
      ]
    },
    {
      "cell_type": "code",
      "execution_count": null,
      "metadata": {
        "id": "LfeghrPFUWaF"
      },
      "outputs": [],
      "source": [
        "t5 = t4 + t2"
      ]
    },
    {
      "cell_type": "code",
      "execution_count": null,
      "metadata": {
        "colab": {
          "base_uri": "https://localhost:8080/"
        },
        "id": "OkfQsLgfUbWP",
        "outputId": "bcd88d46-3bba-4097-d922-5e26368a56eb"
      },
      "outputs": [
        {
          "data": {
            "text/plain": [
              "True"
            ]
          },
          "execution_count": 334,
          "metadata": {},
          "output_type": "execute_result"
        }
      ],
      "source": [
        "t5.requires_grad"
      ]
    },
    {
      "cell_type": "markdown",
      "metadata": {
        "id": "yLlArBXYMY6b"
      },
      "source": [
        "#### Dynamic Computation Graph (DCG)"
      ]
    },
    {
      "cell_type": "markdown",
      "metadata": {
        "id": "juWbC3FWtYvs"
      },
      "source": [
        "<img src=\"https://i.ibb.co/YBrtGsH/Screenshot-from-2021-12-01-10-07-16.png\" />"
      ]
    },
    {
      "cell_type": "code",
      "execution_count": null,
      "metadata": {
        "id": "u2KvylyBUzqL"
      },
      "outputs": [],
      "source": [
        "x = torch.arange(3)"
      ]
    },
    {
      "cell_type": "code",
      "execution_count": null,
      "metadata": {
        "colab": {
          "base_uri": "https://localhost:8080/"
        },
        "id": "mvpzGxxHU1zJ",
        "outputId": "427f9c7c-ef54-435b-ae29-6ef035c5d62f"
      },
      "outputs": [
        {
          "data": {
            "text/plain": [
              "tensor([0, 1, 2])"
            ]
          },
          "execution_count": 337,
          "metadata": {},
          "output_type": "execute_result"
        }
      ],
      "source": [
        "x"
      ]
    },
    {
      "cell_type": "code",
      "execution_count": null,
      "metadata": {
        "id": "Vgd6Ry3YuY7n"
      },
      "outputs": [],
      "source": [
        "# build computational graph\n",
        "x = torch.arange(3, requires_grad=True, dtype=torch.float32)"
      ]
    },
    {
      "cell_type": "code",
      "execution_count": null,
      "metadata": {
        "id": "UM-WkIwQUnrh"
      },
      "outputs": [],
      "source": [
        "a = x + 2\n",
        "b = a ** 2\n",
        "c = b + 3\n",
        "y = c.mean()\n"
      ]
    },
    {
      "cell_type": "code",
      "execution_count": null,
      "metadata": {
        "colab": {
          "base_uri": "https://localhost:8080/"
        },
        "id": "rNdhwQhdW_34",
        "outputId": "14eb0b47-729a-4a74-978c-ef8c2a86f6cc"
      },
      "outputs": [
        {
          "data": {
            "text/plain": [
              "tensor(38., grad_fn=<SumBackward0>)"
            ]
          },
          "execution_count": 341,
          "metadata": {},
          "output_type": "execute_result"
        }
      ],
      "source": [
        "c.sum()"
      ]
    },
    {
      "cell_type": "code",
      "execution_count": null,
      "metadata": {
        "colab": {
          "base_uri": "https://localhost:8080/"
        },
        "id": "D66javVFUnoh",
        "outputId": "0357d25d-5db2-4241-a7f5-eb4bcce4cc46"
      },
      "outputs": [
        {
          "name": "stdout",
          "output_type": "stream",
          "text": [
            "tensor(12.6667, grad_fn=<MeanBackward0>)\n"
          ]
        }
      ],
      "source": [
        "print(y)"
      ]
    },
    {
      "cell_type": "markdown",
      "metadata": {
        "id": "IJ-C35iUufsL"
      },
      "source": [
        "<img src=\"https://i.ibb.co/wRgYBXg/Screenshot-from-2021-12-01-10-07-25.png\" />"
      ]
    },
    {
      "cell_type": "code",
      "execution_count": null,
      "metadata": {
        "id": "cWr--zlZudyd"
      },
      "outputs": [],
      "source": [
        "# backward\n",
        "y.backward()"
      ]
    },
    {
      "cell_type": "code",
      "execution_count": null,
      "metadata": {
        "colab": {
          "base_uri": "https://localhost:8080/"
        },
        "id": "Hzx_bW6VZWCq",
        "outputId": "f0539357-f211-4a99-b718-d2bbae9d05ce"
      },
      "outputs": [
        {
          "data": {
            "text/plain": [
              "tensor([0., 1., 2.], requires_grad=True)"
            ]
          },
          "execution_count": 346,
          "metadata": {},
          "output_type": "execute_result"
        }
      ],
      "source": [
        "x"
      ]
    },
    {
      "cell_type": "code",
      "execution_count": null,
      "metadata": {
        "colab": {
          "base_uri": "https://localhost:8080/"
        },
        "id": "cFeLKtNqNX0i",
        "outputId": "aef273d3-3cc9-4b73-bab4-15e6643faa21"
      },
      "outputs": [
        {
          "data": {
            "text/plain": [
              "tensor([1.3333, 2.0000, 2.6667])"
            ]
          },
          "execution_count": 345,
          "metadata": {},
          "output_type": "execute_result"
        }
      ],
      "source": [
        "# grad\n",
        "x.grad"
      ]
    },
    {
      "cell_type": "markdown",
      "metadata": {
        "id": "Cogm9qZnyNU_"
      },
      "source": [
        "#### Other Example"
      ]
    },
    {
      "cell_type": "code",
      "execution_count": null,
      "metadata": {
        "id": "FeQ5JHu5MOnY"
      },
      "outputs": [],
      "source": [
        "x = torch.tensor(3.)\n",
        "a = torch.tensor(4.)\n",
        "b = torch.tensor(5.)\n",
        "y = a * x \n",
        "z = y + b"
      ]
    },
    {
      "cell_type": "markdown",
      "metadata": {
        "id": "YPs5c-bNMKFS"
      },
      "source": [
        "<img src=\"https://miro.medium.com/max/671/1*zCI8vO39EtV26L3zp56qJA.png\" />"
      ]
    },
    {
      "cell_type": "code",
      "execution_count": null,
      "metadata": {
        "id": "EsqRwWLNMJPj"
      },
      "outputs": [],
      "source": []
    },
    {
      "cell_type": "markdown",
      "metadata": {
        "id": "Txb3l9dQztTz"
      },
      "source": [
        "### grad_fn"
      ]
    },
    {
      "cell_type": "markdown",
      "metadata": {
        "id": "sW99veD-ztNY"
      },
      "source": [
        "The `grad_fn` property holds the reference to the function (mathematical operator) that creates it. It is very important during a backward pass as the function here is responsible to calculate the gradient and send it to the appropriate next function in the next pass.\n"
      ]
    },
    {
      "cell_type": "code",
      "execution_count": null,
      "metadata": {
        "id": "CwLuu2dUfxvi"
      },
      "outputs": [],
      "source": [
        "x = torch.tensor(3.)\n",
        "a = torch.tensor(4.)\n",
        "b = torch.tensor(5.)\n",
        "y = a * x \n",
        "z = y + b"
      ]
    },
    {
      "cell_type": "markdown",
      "metadata": {
        "id": "scEZJWqLXERj"
      },
      "source": [
        "<img src=\"https://miro.medium.com/max/688/1*tfVJSuDLRtMXv_kCdB4qHA.png\" />"
      ]
    },
    {
      "cell_type": "markdown",
      "metadata": {
        "id": "lYtHs5o8vIOH"
      },
      "source": [
        "## GPU support"
      ]
    },
    {
      "cell_type": "code",
      "execution_count": null,
      "metadata": {
        "colab": {
          "base_uri": "https://localhost:8080/"
        },
        "id": "4ByzXAoivJ4J",
        "outputId": "49ba3be2-3f26-4a8a-f0a1-1f84b6699a9a"
      },
      "outputs": [
        {
          "data": {
            "text/plain": [
              "True"
            ]
          },
          "execution_count": 4,
          "metadata": {},
          "output_type": "execute_result"
        }
      ],
      "source": [
        "torch.cuda.is_available()"
      ]
    },
    {
      "cell_type": "code",
      "execution_count": null,
      "metadata": {
        "id": "8U4zqOQGhJHs"
      },
      "outputs": [],
      "source": [
        "device = torch.device('cuda') if torch.cuda.is_available() else torch.device('cpu')"
      ]
    },
    {
      "cell_type": "code",
      "execution_count": null,
      "metadata": {
        "colab": {
          "base_uri": "https://localhost:8080/"
        },
        "id": "NKZ-1TJgvO0P",
        "outputId": "2b01eafa-761f-428f-c27f-0cfe04e33caa"
      },
      "outputs": [
        {
          "data": {
            "text/plain": [
              "device(type='cuda')"
            ]
          },
          "execution_count": 6,
          "metadata": {},
          "output_type": "execute_result"
        }
      ],
      "source": [
        "# device\n",
        "device"
      ]
    },
    {
      "cell_type": "code",
      "execution_count": null,
      "metadata": {
        "id": "WxMqCOkBvU_R"
      },
      "outputs": [],
      "source": [
        "x = torch.zeros(2, 3)"
      ]
    },
    {
      "cell_type": "code",
      "execution_count": null,
      "metadata": {
        "colab": {
          "base_uri": "https://localhost:8080/"
        },
        "id": "johvrsiOvhhc",
        "outputId": "764b5742-d3b3-4596-918e-739483b25493"
      },
      "outputs": [
        {
          "data": {
            "text/plain": [
              "tensor([[0., 0., 0.],\n",
              "        [0., 0., 0.]])"
            ]
          },
          "execution_count": 8,
          "metadata": {},
          "output_type": "execute_result"
        }
      ],
      "source": [
        "x"
      ]
    },
    {
      "cell_type": "code",
      "execution_count": null,
      "metadata": {
        "id": "hsAG9q2BzEJd"
      },
      "outputs": [],
      "source": [
        "x = x.to(device)"
      ]
    },
    {
      "cell_type": "code",
      "execution_count": null,
      "metadata": {
        "colab": {
          "base_uri": "https://localhost:8080/"
        },
        "id": "OhFmx9PszL7X",
        "outputId": "2eb7b71a-8838-432a-e947-037d3ab5f1f6"
      },
      "outputs": [
        {
          "data": {
            "text/plain": [
              "tensor([[0., 0., 0.],\n",
              "        [0., 0., 0.]], device='cuda:0')"
            ]
          },
          "execution_count": 10,
          "metadata": {},
          "output_type": "execute_result"
        }
      ],
      "source": [
        "x"
      ]
    },
    {
      "cell_type": "code",
      "execution_count": null,
      "metadata": {
        "id": "DA_Zy2eyjCo9"
      },
      "outputs": [],
      "source": [
        "x2 = torch.ones(3)"
      ]
    },
    {
      "cell_type": "code",
      "execution_count": null,
      "metadata": {
        "colab": {
          "base_uri": "https://localhost:8080/"
        },
        "id": "6m9_88XYjEhz",
        "outputId": "3b6b6e54-f7ee-4de0-e7b2-b921ed8adba1"
      },
      "outputs": [
        {
          "data": {
            "text/plain": [
              "tensor([1., 1., 1.])"
            ]
          },
          "execution_count": 12,
          "metadata": {},
          "output_type": "execute_result"
        }
      ],
      "source": [
        "x2"
      ]
    },
    {
      "cell_type": "markdown",
      "metadata": {
        "id": "nlejpMG2vggY"
      },
      "source": [
        "# Learning by example: Continuous XOR"
      ]
    },
    {
      "cell_type": "markdown",
      "metadata": {
        "id": "gf7ABYNLvhME"
      },
      "source": [
        "### The model"
      ]
    },
    {
      "cell_type": "code",
      "execution_count": null,
      "metadata": {
        "id": "iqDzKnXFvmkV"
      },
      "outputs": [],
      "source": [
        "import torch.nn as nn"
      ]
    },
    {
      "cell_type": "markdown",
      "metadata": {
        "id": "TzHhpW1SvqRv"
      },
      "source": [
        "#### Class in OOP"
      ]
    },
    {
      "cell_type": "code",
      "execution_count": 1,
      "metadata": {
        "id": "vTBrc6cxv3Zx"
      },
      "outputs": [],
      "source": [
        "class Person:\n",
        "  def __init__(self, first_name, last_name, age):\n",
        "    self.first_name = first_name\n",
        "    self.last_name = last_name\n",
        "    self.age = age\n",
        "  \n",
        "  def say_name(self):\n",
        "    print(self.first_name)\n",
        "  \n",
        "  def say_age(self):\n",
        "    print('my age is', self.age)"
      ]
    },
    {
      "cell_type": "code",
      "execution_count": 2,
      "metadata": {
        "id": "OwHilxCeXYDf"
      },
      "outputs": [],
      "source": [
        "person1 = Person('Mobin', 'Nesari', '22')"
      ]
    },
    {
      "cell_type": "code",
      "execution_count": 3,
      "metadata": {
        "colab": {
          "base_uri": "https://localhost:8080/"
        },
        "id": "-YKFTVSbmeRR",
        "outputId": "2a03ae95-2884-427c-8f24-ae37e710356f"
      },
      "outputs": [
        {
          "name": "stdout",
          "output_type": "stream",
          "text": [
            "Mobin\n"
          ]
        }
      ],
      "source": [
        "person1.say_name()"
      ]
    },
    {
      "cell_type": "code",
      "execution_count": 4,
      "metadata": {
        "colab": {
          "base_uri": "https://localhost:8080/",
          "height": 35
        },
        "id": "clvqN-HvmziK",
        "outputId": "4c35eadf-3414-4912-eed8-a9bcc254782c"
      },
      "outputs": [
        {
          "data": {
            "text/plain": [
              "'Nesari'"
            ]
          },
          "execution_count": 4,
          "metadata": {},
          "output_type": "execute_result"
        }
      ],
      "source": [
        "person1.last_name"
      ]
    },
    {
      "cell_type": "markdown",
      "metadata": {
        "id": "ChkDXmpqXYeS"
      },
      "source": [
        "##### Inherent"
      ]
    },
    {
      "cell_type": "code",
      "execution_count": 5,
      "metadata": {
        "id": "ReDUt6CiXNAM"
      },
      "outputs": [],
      "source": [
        "class Student(Person):\n",
        "  def __init__(self, first_name, last_name, age, grade):\n",
        "    super().__init__(first_name, last_name, age)\n",
        "    self.grade = grade\n",
        "\n",
        "  def say_grade(self):\n",
        "    print('my grade is', self.grade)"
      ]
    },
    {
      "cell_type": "code",
      "execution_count": 9,
      "metadata": {
        "id": "QjqjU4Sjn7f4"
      },
      "outputs": [],
      "source": [
        "student1 = Student('Mohammad Mehdi', 'Begmaz', '21', 'Bachelor')"
      ]
    },
    {
      "cell_type": "code",
      "execution_count": 10,
      "metadata": {
        "colab": {
          "base_uri": "https://localhost:8080/"
        },
        "id": "gB3eo9WZoBvl",
        "outputId": "5bf048d2-5bcd-44da-dcc9-c59c9950c6bb"
      },
      "outputs": [
        {
          "name": "stdout",
          "output_type": "stream",
          "text": [
            "my grade is Bachelor\n"
          ]
        }
      ],
      "source": [
        "student1.say_grade()"
      ]
    },
    {
      "cell_type": "code",
      "execution_count": 11,
      "metadata": {
        "colab": {
          "base_uri": "https://localhost:8080/"
        },
        "id": "OHXaBj5JoG17",
        "outputId": "50b434fd-96c5-4a21-e9cd-382c3227404d"
      },
      "outputs": [
        {
          "name": "stdout",
          "output_type": "stream",
          "text": [
            "Mohammad Mehdi\n"
          ]
        }
      ],
      "source": [
        "student1.say_name()"
      ]
    },
    {
      "cell_type": "markdown",
      "metadata": {
        "id": "KHoJrs9dwAAI"
      },
      "source": [
        "#### simple classifier"
      ]
    },
    {
      "cell_type": "markdown",
      "metadata": {
        "id": "Ybr2vf4hwDa1"
      },
      "source": [
        "<img src=\"https://i.ibb.co/R9gP1P7/Screenshot-from-2021-12-01-10-18-49.png\" />"
      ]
    },
    {
      "cell_type": "code",
      "execution_count": null,
      "metadata": {
        "id": "eth8BcL3ne_I"
      },
      "outputs": [],
      "source": [
        "class MyModule(nn.Module):\n",
        "  def __init__(self):\n",
        "    super().__init__()\n",
        "    pass\n",
        "\n",
        "  def forward(self, x):\n",
        "    pass\n"
      ]
    },
    {
      "cell_type": "code",
      "execution_count": null,
      "metadata": {
        "id": "QgvLdKp0wn__"
      },
      "outputs": [],
      "source": [
        "# create simpleClassifier\n",
        "class SimpleClassifier(nn.Module):\n",
        "  def __init__(self, num_inputs, num_hidden, num_output):\n",
        "    super().__init__()\n",
        "    self.linear1 = nn.Linear(num_inputs, num_hidden)\n",
        "    self.act_fn = nn.Tanh()\n",
        "    self.linear2 = nn.Linear(num_hidden, num_output)\n",
        "\n",
        "\n",
        "  def forward(self, x):\n",
        "    x = self.linear1(x)\n",
        "    x = self.act_fn(x)\n",
        "    x = self.linear2(x)\n",
        "\n",
        "    return x"
      ]
    },
    {
      "cell_type": "code",
      "execution_count": null,
      "metadata": {
        "id": "jYgMBvH0wx6I"
      },
      "outputs": [],
      "source": [
        "model = SimpleClassifier(num_inputs=2, num_hidden=4, num_output=1)"
      ]
    },
    {
      "cell_type": "code",
      "execution_count": null,
      "metadata": {
        "colab": {
          "base_uri": "https://localhost:8080/"
        },
        "id": "zM4F4ePsqNiJ",
        "outputId": "bdf10b6d-5525-46de-8237-2ec346e83401"
      },
      "outputs": [
        {
          "data": {
            "text/plain": [
              "SimpleClassifier(\n",
              "  (linear1): Linear(in_features=2, out_features=4, bias=True)\n",
              "  (act_fn): Tanh()\n",
              "  (linear2): Linear(in_features=4, out_features=1, bias=True)\n",
              ")"
            ]
          },
          "execution_count": 32,
          "metadata": {},
          "output_type": "execute_result"
        }
      ],
      "source": [
        "model"
      ]
    },
    {
      "cell_type": "code",
      "execution_count": null,
      "metadata": {
        "colab": {
          "base_uri": "https://localhost:8080/"
        },
        "id": "Dpnm3F4-rvPo",
        "outputId": "ccd697e2-2336-4a13-97a9-7dc1bbffde9e"
      },
      "outputs": [
        {
          "name": "stdout",
          "output_type": "stream",
          "text": [
            "Parameter containing:\n",
            "tensor([[-0.4171, -0.1289],\n",
            "        [ 0.1810, -0.7058],\n",
            "        [ 0.1323, -0.6888],\n",
            "        [-0.2406, -0.2187]], requires_grad=True)\n",
            "torch.Size([4, 2])\n",
            "Parameter containing:\n",
            "tensor([-0.5336, -0.4845,  0.1949, -0.5617], requires_grad=True)\n",
            "torch.Size([4])\n",
            "Parameter containing:\n",
            "tensor([[-0.3018,  0.0360, -0.3018, -0.3718]], requires_grad=True)\n",
            "torch.Size([1, 4])\n",
            "Parameter containing:\n",
            "tensor([0.0393], requires_grad=True)\n",
            "torch.Size([1])\n"
          ]
        }
      ],
      "source": [
        "# parameter\n",
        "for param in model.parameters():\n",
        "  print(param)\n",
        "  print(param.size())"
      ]
    },
    {
      "cell_type": "markdown",
      "metadata": {
        "id": "gXcFaoVjw98o"
      },
      "source": [
        "## The data"
      ]
    },
    {
      "cell_type": "code",
      "execution_count": null,
      "metadata": {
        "id": "b4ywtWKMw_67"
      },
      "outputs": [],
      "source": [
        "import torch.utils.data as data"
      ]
    },
    {
      "cell_type": "code",
      "execution_count": null,
      "metadata": {
        "id": "5GoVyzKztqjt"
      },
      "outputs": [],
      "source": [
        "import torch"
      ]
    },
    {
      "cell_type": "code",
      "execution_count": null,
      "metadata": {
        "id": "2vKGhMY1xBbn"
      },
      "outputs": [],
      "source": [
        "class CustomDataset(data.Dataset):\n",
        "\n",
        "  def __init__(self):\n",
        "    pass\n",
        "\n",
        "  def __len__(self):\n",
        "    pass\n",
        "\n",
        "  def __getitem__(self, idx):\n",
        "    pass"
      ]
    },
    {
      "cell_type": "code",
      "execution_count": null,
      "metadata": {
        "id": "uZB5tHtTswFi"
      },
      "outputs": [],
      "source": [
        "class XORDataset(data.Dataset):\n",
        "\n",
        "  def __init__(self, size, std=0.1):\n",
        "    super().__init__()\n",
        "    self.size = size\n",
        "    self.std = std\n",
        "    self.generate_xor()\n",
        "\n",
        "  def generate_xor(self):\n",
        "    data = torch.randint(low=0, high=2, size=(self.size, 2), dtype=torch.float32)\n",
        "    label = (data.sum(dim=1) == 1).to(torch.long)\n",
        "    data += torch.randn(data.shape) * self.std\n",
        "    self.data = data\n",
        "    self.label = label\n",
        "\n",
        "  def __len__(self):\n",
        "    return self.size\n",
        "  \n",
        "  def __getitem__(self, indx):\n",
        "    return self.data[indx], self.label[indx]\n"
      ]
    },
    {
      "cell_type": "code",
      "execution_count": null,
      "metadata": {
        "id": "Atd7_Y2xvKYt"
      },
      "outputs": [],
      "source": [
        "myData = XORDataset(size=200)"
      ]
    },
    {
      "cell_type": "code",
      "execution_count": null,
      "metadata": {
        "colab": {
          "base_uri": "https://localhost:8080/"
        },
        "id": "HGOI9lebvKRM",
        "outputId": "e535a723-b736-45d7-c29d-54d436d88bde"
      },
      "outputs": [
        {
          "name": "stdout",
          "output_type": "stream",
          "text": [
            "tensor([ 0.0143, -0.1740])\n",
            "tensor(0)\n",
            "***\n",
            "tensor([ 0.0629, -0.0389])\n",
            "tensor(0)\n",
            "***\n",
            "tensor([0.0169, 0.1469])\n",
            "tensor(0)\n",
            "***\n",
            "tensor([0.0438, 1.0568])\n",
            "tensor(1)\n",
            "***\n",
            "tensor([ 0.9507, -0.0762])\n",
            "tensor(1)\n",
            "***\n",
            "tensor([1.1234, 0.0202])\n",
            "tensor(1)\n",
            "***\n",
            "tensor([-0.1103,  0.9798])\n",
            "tensor(1)\n",
            "***\n",
            "tensor([ 0.8991, -0.0385])\n",
            "tensor(1)\n",
            "***\n",
            "tensor([ 0.1655, -0.0757])\n",
            "tensor(0)\n",
            "***\n",
            "tensor([0.0524, 1.0531])\n",
            "tensor(1)\n",
            "***\n",
            "tensor([ 1.0487, -0.0081])\n",
            "tensor(1)\n",
            "***\n",
            "tensor([0.1117, 0.1687])\n",
            "tensor(0)\n",
            "***\n",
            "tensor([ 1.1331, -0.1738])\n",
            "tensor(1)\n",
            "***\n",
            "tensor([0.0761, 0.9714])\n",
            "tensor(1)\n",
            "***\n",
            "tensor([0.0859, 1.0953])\n",
            "tensor(1)\n",
            "***\n",
            "tensor([0.7267, 0.9972])\n",
            "tensor(0)\n",
            "***\n",
            "tensor([1.0445, 1.0229])\n",
            "tensor(0)\n",
            "***\n",
            "tensor([0.9057, 0.9857])\n",
            "tensor(0)\n",
            "***\n",
            "tensor([0.9300, 0.0703])\n",
            "tensor(1)\n",
            "***\n",
            "tensor([0.9118, 0.9839])\n",
            "tensor(0)\n",
            "***\n",
            "tensor([1.1822, 1.0900])\n",
            "tensor(0)\n",
            "***\n",
            "tensor([1.0127, 1.0123])\n",
            "tensor(0)\n",
            "***\n",
            "tensor([1.1333, 0.0141])\n",
            "tensor(1)\n",
            "***\n",
            "tensor([1.0878, 0.0060])\n",
            "tensor(1)\n",
            "***\n",
            "tensor([ 0.9753, -0.1127])\n",
            "tensor(1)\n",
            "***\n",
            "tensor([0.9851, 0.9887])\n",
            "tensor(0)\n",
            "***\n",
            "tensor([0.9897, 0.8077])\n",
            "tensor(0)\n",
            "***\n",
            "tensor([-0.1028, -0.0353])\n",
            "tensor(0)\n",
            "***\n",
            "tensor([1.0805, 0.9506])\n",
            "tensor(0)\n",
            "***\n",
            "tensor([ 1.0852, -0.1335])\n",
            "tensor(1)\n",
            "***\n",
            "tensor([1.0508, 0.9185])\n",
            "tensor(0)\n",
            "***\n",
            "tensor([0.1291, 1.0243])\n",
            "tensor(1)\n",
            "***\n",
            "tensor([1.1620, 0.9884])\n",
            "tensor(0)\n",
            "***\n",
            "tensor([0.9338, 0.0472])\n",
            "tensor(1)\n",
            "***\n",
            "tensor([0.9787, 0.1574])\n",
            "tensor(1)\n",
            "***\n",
            "tensor([ 0.0707, -0.2324])\n",
            "tensor(0)\n",
            "***\n",
            "tensor([0.0029, 0.0055])\n",
            "tensor(0)\n",
            "***\n",
            "tensor([-0.0965,  1.0957])\n",
            "tensor(1)\n",
            "***\n",
            "tensor([1.0450, 0.1043])\n",
            "tensor(1)\n",
            "***\n",
            "tensor([1.0673, 0.9498])\n",
            "tensor(0)\n",
            "***\n",
            "tensor([0.0879, 0.0181])\n",
            "tensor(0)\n",
            "***\n",
            "tensor([0.8772, 1.0740])\n",
            "tensor(0)\n",
            "***\n",
            "tensor([0.0457, 0.9017])\n",
            "tensor(1)\n",
            "***\n",
            "tensor([0.0887, 0.9317])\n",
            "tensor(1)\n",
            "***\n",
            "tensor([0.8989, 1.1211])\n",
            "tensor(0)\n",
            "***\n",
            "tensor([1.1079, 0.9217])\n",
            "tensor(0)\n",
            "***\n",
            "tensor([0.0461, 0.9016])\n",
            "tensor(1)\n",
            "***\n",
            "tensor([ 1.0944, -0.0352])\n",
            "tensor(1)\n",
            "***\n",
            "tensor([-0.0365,  0.8957])\n",
            "tensor(1)\n",
            "***\n",
            "tensor([ 0.0370, -0.0251])\n",
            "tensor(0)\n",
            "***\n",
            "tensor([ 0.2284, -0.2308])\n",
            "tensor(0)\n",
            "***\n",
            "tensor([1.1145, 0.0280])\n",
            "tensor(1)\n",
            "***\n",
            "tensor([ 0.9547, -0.0634])\n",
            "tensor(1)\n",
            "***\n",
            "tensor([0.0672, 0.8933])\n",
            "tensor(1)\n",
            "***\n",
            "tensor([0.0750, 0.8060])\n",
            "tensor(1)\n",
            "***\n",
            "tensor([0.0325, 0.7860])\n",
            "tensor(1)\n",
            "***\n",
            "tensor([1.2037, 1.0570])\n",
            "tensor(0)\n",
            "***\n",
            "tensor([ 1.2416, -0.1743])\n",
            "tensor(1)\n",
            "***\n",
            "tensor([0.9644, 0.9119])\n",
            "tensor(0)\n",
            "***\n",
            "tensor([-0.0198, -0.0683])\n",
            "tensor(0)\n",
            "***\n",
            "tensor([-0.0150,  0.0511])\n",
            "tensor(0)\n",
            "***\n",
            "tensor([ 0.8787, -0.0370])\n",
            "tensor(1)\n",
            "***\n",
            "tensor([-0.0704,  0.1715])\n",
            "tensor(0)\n",
            "***\n",
            "tensor([0.1239, 0.0241])\n",
            "tensor(0)\n",
            "***\n",
            "tensor([0.9107, 1.0521])\n",
            "tensor(0)\n",
            "***\n",
            "tensor([0.8788, 0.9925])\n",
            "tensor(0)\n",
            "***\n",
            "tensor([1.1161, 0.0438])\n",
            "tensor(1)\n",
            "***\n",
            "tensor([0.9054, 0.9227])\n",
            "tensor(0)\n",
            "***\n",
            "tensor([0.9953, 0.1252])\n",
            "tensor(1)\n",
            "***\n",
            "tensor([-0.1058, -0.0957])\n",
            "tensor(0)\n",
            "***\n",
            "tensor([-0.0296, -0.2483])\n",
            "tensor(0)\n",
            "***\n",
            "tensor([-0.1258,  1.1237])\n",
            "tensor(1)\n",
            "***\n",
            "tensor([0.1062, 1.0557])\n",
            "tensor(1)\n",
            "***\n",
            "tensor([1.0808, 1.0787])\n",
            "tensor(0)\n",
            "***\n",
            "tensor([0.9809, 0.9979])\n",
            "tensor(0)\n",
            "***\n",
            "tensor([0.1382, 0.8904])\n",
            "tensor(1)\n",
            "***\n",
            "tensor([1.0281, 0.0106])\n",
            "tensor(1)\n",
            "***\n",
            "tensor([-0.0828,  0.0344])\n",
            "tensor(0)\n",
            "***\n",
            "tensor([1.0284, 0.0501])\n",
            "tensor(1)\n",
            "***\n",
            "tensor([0.1193, 0.9927])\n",
            "tensor(1)\n",
            "***\n",
            "tensor([ 0.9415, -0.0801])\n",
            "tensor(1)\n",
            "***\n",
            "tensor([0.9939, 0.9461])\n",
            "tensor(0)\n",
            "***\n",
            "tensor([ 1.0800, -0.0122])\n",
            "tensor(1)\n",
            "***\n",
            "tensor([1.0449, 0.0338])\n",
            "tensor(1)\n",
            "***\n",
            "tensor([1.0541, 0.8597])\n",
            "tensor(0)\n",
            "***\n",
            "tensor([1.0011, 0.1287])\n",
            "tensor(1)\n",
            "***\n",
            "tensor([ 0.0494, -0.0350])\n",
            "tensor(0)\n",
            "***\n",
            "tensor([ 1.0696e+00, -2.3007e-04])\n",
            "tensor(1)\n",
            "***\n",
            "tensor([0.0912, 1.0852])\n",
            "tensor(1)\n",
            "***\n",
            "tensor([0.0782, 0.9987])\n",
            "tensor(1)\n",
            "***\n",
            "tensor([0.0028, 1.0553])\n",
            "tensor(1)\n",
            "***\n",
            "tensor([1.0390, 0.8886])\n",
            "tensor(0)\n",
            "***\n",
            "tensor([1.0333, 0.0480])\n",
            "tensor(1)\n",
            "***\n",
            "tensor([0.0880, 0.1589])\n",
            "tensor(0)\n",
            "***\n",
            "tensor([0.0279, 0.9616])\n",
            "tensor(1)\n",
            "***\n",
            "tensor([0.9673, 0.1046])\n",
            "tensor(1)\n",
            "***\n",
            "tensor([ 0.8725, -0.1555])\n",
            "tensor(1)\n",
            "***\n",
            "tensor([-0.2144, -0.0610])\n",
            "tensor(0)\n",
            "***\n",
            "tensor([1.1353, 0.8084])\n",
            "tensor(0)\n",
            "***\n",
            "tensor([-0.1098,  1.0694])\n",
            "tensor(1)\n",
            "***\n",
            "tensor([0.9834, 0.0984])\n",
            "tensor(1)\n",
            "***\n",
            "tensor([0.8695, 1.1326])\n",
            "tensor(0)\n",
            "***\n",
            "tensor([1.0840, 0.0554])\n",
            "tensor(1)\n",
            "***\n",
            "tensor([0.9336, 0.1006])\n",
            "tensor(1)\n",
            "***\n",
            "tensor([0.1330, 0.8407])\n",
            "tensor(1)\n",
            "***\n",
            "tensor([-0.1171,  0.0448])\n",
            "tensor(0)\n",
            "***\n",
            "tensor([ 1.0608, -0.0723])\n",
            "tensor(1)\n",
            "***\n",
            "tensor([ 1.0147, -0.0779])\n",
            "tensor(1)\n",
            "***\n",
            "tensor([ 0.9287, -0.0137])\n",
            "tensor(1)\n",
            "***\n",
            "tensor([0.9327, 1.0482])\n",
            "tensor(0)\n",
            "***\n",
            "tensor([ 0.1106, -0.0340])\n",
            "tensor(0)\n",
            "***\n",
            "tensor([0.9694, 0.9702])\n",
            "tensor(0)\n",
            "***\n",
            "tensor([1.1236, 0.9556])\n",
            "tensor(0)\n",
            "***\n",
            "tensor([0.2430, 1.0712])\n",
            "tensor(1)\n",
            "***\n",
            "tensor([0.8950, 0.8721])\n",
            "tensor(0)\n",
            "***\n",
            "tensor([0.2574, 0.9643])\n",
            "tensor(1)\n",
            "***\n",
            "tensor([ 0.9434, -0.0085])\n",
            "tensor(1)\n",
            "***\n",
            "tensor([-0.0539, -0.0594])\n",
            "tensor(0)\n",
            "***\n",
            "tensor([1.0785, 0.0918])\n",
            "tensor(1)\n",
            "***\n",
            "tensor([-0.0870,  0.1860])\n",
            "tensor(0)\n",
            "***\n",
            "tensor([ 0.1257, -0.0281])\n",
            "tensor(0)\n",
            "***\n",
            "tensor([-0.1349,  0.1079])\n",
            "tensor(0)\n",
            "***\n",
            "tensor([0.0617, 1.1328])\n",
            "tensor(1)\n",
            "***\n",
            "tensor([1.0251, 1.1002])\n",
            "tensor(0)\n",
            "***\n",
            "tensor([ 0.0109, -0.0028])\n",
            "tensor(0)\n",
            "***\n",
            "tensor([1.1590, 0.9347])\n",
            "tensor(0)\n",
            "***\n",
            "tensor([0.0780, 0.9129])\n",
            "tensor(1)\n",
            "***\n",
            "tensor([ 1.1781, -0.0429])\n",
            "tensor(1)\n",
            "***\n",
            "tensor([1.0415, 0.1033])\n",
            "tensor(1)\n",
            "***\n",
            "tensor([ 0.0545, -0.1388])\n",
            "tensor(0)\n",
            "***\n",
            "tensor([1.0757, 1.0058])\n",
            "tensor(0)\n",
            "***\n",
            "tensor([-0.2206, -0.0616])\n",
            "tensor(0)\n",
            "***\n",
            "tensor([1.1311, 1.1755])\n",
            "tensor(0)\n",
            "***\n",
            "tensor([1.0782, 0.9562])\n",
            "tensor(0)\n",
            "***\n",
            "tensor([-0.0854, -0.0444])\n",
            "tensor(0)\n",
            "***\n",
            "tensor([-0.0185,  0.8752])\n",
            "tensor(1)\n",
            "***\n",
            "tensor([0.0708, 0.9674])\n",
            "tensor(1)\n",
            "***\n",
            "tensor([0.8806, 0.9674])\n",
            "tensor(0)\n",
            "***\n",
            "tensor([0.8769, 0.8737])\n",
            "tensor(0)\n",
            "***\n",
            "tensor([1.1233, 1.0869])\n",
            "tensor(0)\n",
            "***\n",
            "tensor([ 1.1097, -0.1055])\n",
            "tensor(1)\n",
            "***\n",
            "tensor([0.0956, 0.1179])\n",
            "tensor(0)\n",
            "***\n",
            "tensor([0.9780, 0.9665])\n",
            "tensor(0)\n",
            "***\n",
            "tensor([ 1.0202, -0.1409])\n",
            "tensor(1)\n",
            "***\n",
            "tensor([-0.1390,  0.0511])\n",
            "tensor(0)\n",
            "***\n",
            "tensor([ 0.9217, -0.1165])\n",
            "tensor(1)\n",
            "***\n",
            "tensor([-0.0462,  1.0360])\n",
            "tensor(1)\n",
            "***\n",
            "tensor([1.0478, 1.0844])\n",
            "tensor(0)\n",
            "***\n",
            "tensor([1.0803, 0.9645])\n",
            "tensor(0)\n",
            "***\n",
            "tensor([1.1318, 0.0917])\n",
            "tensor(1)\n",
            "***\n",
            "tensor([0.8614, 1.1167])\n",
            "tensor(0)\n",
            "***\n",
            "tensor([0.1446, 0.8950])\n",
            "tensor(1)\n",
            "***\n",
            "tensor([-0.0249, -0.1365])\n",
            "tensor(0)\n",
            "***\n",
            "tensor([-0.0472,  1.0972])\n",
            "tensor(1)\n",
            "***\n",
            "tensor([0.0321, 0.8597])\n",
            "tensor(1)\n",
            "***\n",
            "tensor([-0.0259, -0.0711])\n",
            "tensor(0)\n",
            "***\n",
            "tensor([0.8347, 0.9870])\n",
            "tensor(0)\n",
            "***\n",
            "tensor([ 0.9362, -0.0420])\n",
            "tensor(1)\n",
            "***\n",
            "tensor([ 1.0681, -0.0038])\n",
            "tensor(1)\n",
            "***\n",
            "tensor([0.9626, 0.0496])\n",
            "tensor(1)\n",
            "***\n",
            "tensor([0.0149, 1.0878])\n",
            "tensor(1)\n",
            "***\n",
            "tensor([-0.1288,  0.9418])\n",
            "tensor(1)\n",
            "***\n",
            "tensor([0.9520, 1.0258])\n",
            "tensor(0)\n",
            "***\n",
            "tensor([0.9602, 0.1886])\n",
            "tensor(1)\n",
            "***\n",
            "tensor([ 0.8985, -0.0807])\n",
            "tensor(1)\n",
            "***\n",
            "tensor([0.0904, 0.8282])\n",
            "tensor(1)\n",
            "***\n",
            "tensor([ 0.9466, -0.0598])\n",
            "tensor(1)\n",
            "***\n",
            "tensor([1.0021, 0.9850])\n",
            "tensor(0)\n",
            "***\n",
            "tensor([ 1.0093, -0.0260])\n",
            "tensor(1)\n",
            "***\n",
            "tensor([ 0.9925, -0.1389])\n",
            "tensor(1)\n",
            "***\n",
            "tensor([1.0926, 0.7589])\n",
            "tensor(0)\n",
            "***\n",
            "tensor([-0.0547,  1.0565])\n",
            "tensor(1)\n",
            "***\n",
            "tensor([-0.0095,  0.9339])\n",
            "tensor(1)\n",
            "***\n",
            "tensor([0.0305, 1.0945])\n",
            "tensor(1)\n",
            "***\n",
            "tensor([ 1.0375, -0.0562])\n",
            "tensor(1)\n",
            "***\n",
            "tensor([1.0403, 0.9254])\n",
            "tensor(0)\n",
            "***\n",
            "tensor([0.9597, 1.0572])\n",
            "tensor(0)\n",
            "***\n",
            "tensor([-0.1673,  1.0274])\n",
            "tensor(1)\n",
            "***\n",
            "tensor([0.9379, 1.0734])\n",
            "tensor(0)\n",
            "***\n",
            "tensor([1.1567, 0.0243])\n",
            "tensor(1)\n",
            "***\n",
            "tensor([0.9527, 0.0719])\n",
            "tensor(1)\n",
            "***\n",
            "tensor([-0.1325,  0.0079])\n",
            "tensor(0)\n",
            "***\n",
            "tensor([-0.0184,  0.0177])\n",
            "tensor(0)\n",
            "***\n",
            "tensor([-0.1525, -0.0765])\n",
            "tensor(0)\n",
            "***\n",
            "tensor([ 0.0422, -0.0633])\n",
            "tensor(0)\n",
            "***\n",
            "tensor([0.1226, 0.0395])\n",
            "tensor(0)\n",
            "***\n",
            "tensor([-0.0201,  0.8197])\n",
            "tensor(1)\n",
            "***\n",
            "tensor([-0.1155,  0.0939])\n",
            "tensor(0)\n",
            "***\n",
            "tensor([-0.0071, -0.1662])\n",
            "tensor(0)\n",
            "***\n",
            "tensor([1.0014, 1.2159])\n",
            "tensor(0)\n",
            "***\n",
            "tensor([-0.0884,  0.0456])\n",
            "tensor(0)\n",
            "***\n",
            "tensor([0.0557, 0.7911])\n",
            "tensor(1)\n",
            "***\n",
            "tensor([ 1.0841, -0.0940])\n",
            "tensor(1)\n",
            "***\n",
            "tensor([0.1447, 1.0500])\n",
            "tensor(1)\n",
            "***\n",
            "tensor([1.1266, 0.1954])\n",
            "tensor(1)\n",
            "***\n",
            "tensor([1.0348, 1.0892])\n",
            "tensor(0)\n",
            "***\n",
            "tensor([1.3592, 1.2179])\n",
            "tensor(0)\n",
            "***\n",
            "tensor([0.2300, 0.9782])\n",
            "tensor(1)\n",
            "***\n",
            "tensor([-0.1460,  1.0252])\n",
            "tensor(1)\n",
            "***\n",
            "tensor([0.9421, 0.1255])\n",
            "tensor(1)\n",
            "***\n"
          ]
        }
      ],
      "source": [
        "for x, y in myData:\n",
        "  print(x)\n",
        "  print(y)\n",
        "  print('***')"
      ]
    },
    {
      "cell_type": "markdown",
      "metadata": {
        "id": "46XZ8L_fyu-D"
      },
      "source": [
        "#### The data loader class"
      ]
    },
    {
      "cell_type": "code",
      "execution_count": null,
      "metadata": {
        "id": "LSR3SnScy3LF"
      },
      "outputs": [],
      "source": [
        "from torch.utils.data import DataLoader"
      ]
    },
    {
      "cell_type": "code",
      "execution_count": null,
      "metadata": {
        "id": "D1sYUcLRz90s"
      },
      "outputs": [],
      "source": [
        "data_loader = DataLoader(myData, batch_size = 8, shuffle = True)"
      ]
    },
    {
      "cell_type": "code",
      "execution_count": null,
      "metadata": {
        "colab": {
          "base_uri": "https://localhost:8080/"
        },
        "id": "g3TsnHo4v67-",
        "outputId": "3239cf85-dd8d-45ba-87be-3477adcb3311"
      },
      "outputs": [
        {
          "name": "stdout",
          "output_type": "stream",
          "text": [
            "torch.Size([8, 2])\n",
            "torch.Size([8])\n",
            "**\n",
            "torch.Size([8, 2])\n",
            "torch.Size([8])\n",
            "**\n",
            "torch.Size([8, 2])\n",
            "torch.Size([8])\n",
            "**\n",
            "torch.Size([8, 2])\n",
            "torch.Size([8])\n",
            "**\n",
            "torch.Size([8, 2])\n",
            "torch.Size([8])\n",
            "**\n",
            "torch.Size([8, 2])\n",
            "torch.Size([8])\n",
            "**\n",
            "torch.Size([8, 2])\n",
            "torch.Size([8])\n",
            "**\n",
            "torch.Size([8, 2])\n",
            "torch.Size([8])\n",
            "**\n",
            "torch.Size([8, 2])\n",
            "torch.Size([8])\n",
            "**\n",
            "torch.Size([8, 2])\n",
            "torch.Size([8])\n",
            "**\n",
            "torch.Size([8, 2])\n",
            "torch.Size([8])\n",
            "**\n",
            "torch.Size([8, 2])\n",
            "torch.Size([8])\n",
            "**\n",
            "torch.Size([8, 2])\n",
            "torch.Size([8])\n",
            "**\n",
            "torch.Size([8, 2])\n",
            "torch.Size([8])\n",
            "**\n",
            "torch.Size([8, 2])\n",
            "torch.Size([8])\n",
            "**\n",
            "torch.Size([8, 2])\n",
            "torch.Size([8])\n",
            "**\n",
            "torch.Size([8, 2])\n",
            "torch.Size([8])\n",
            "**\n",
            "torch.Size([8, 2])\n",
            "torch.Size([8])\n",
            "**\n",
            "torch.Size([8, 2])\n",
            "torch.Size([8])\n",
            "**\n",
            "torch.Size([8, 2])\n",
            "torch.Size([8])\n",
            "**\n",
            "torch.Size([8, 2])\n",
            "torch.Size([8])\n",
            "**\n",
            "torch.Size([8, 2])\n",
            "torch.Size([8])\n",
            "**\n",
            "torch.Size([8, 2])\n",
            "torch.Size([8])\n",
            "**\n",
            "torch.Size([8, 2])\n",
            "torch.Size([8])\n",
            "**\n",
            "torch.Size([8, 2])\n",
            "torch.Size([8])\n",
            "**\n"
          ]
        }
      ],
      "source": [
        "for sample in data_loader:\n",
        "  x,y=sample\n",
        "  print(x.size())\n",
        "  print(y.size())\n",
        "  print('**')"
      ]
    },
    {
      "cell_type": "markdown",
      "metadata": {
        "id": "s3NdOgud0FOY"
      },
      "source": [
        "## Optimization"
      ]
    },
    {
      "cell_type": "markdown",
      "metadata": {
        "id": "ywChsVZR19ok"
      },
      "source": [
        "#### Loss modules"
      ]
    },
    {
      "cell_type": "markdown",
      "metadata": {
        "id": "FWIzBRvv0GbD"
      },
      "source": [
        "After defining the model and the dataset, it is time to prepare the optimization of the model. During training, we will perform the following steps:\n",
        "\n"
      ]
    },
    {
      "cell_type": "markdown",
      "metadata": {
        "id": "azJu1ggo0Kn2"
      },
      "source": [
        "\n",
        "\n",
        "1.   Get a batch from the data loader\n",
        "2.   Obtain the predictions from the model for the batch\n",
        "3.   Calculate the loss based on the difference between predictions and labels\n",
        "4.  Backpropagation: calculate the gradients for every parameter with respect to the loss\n",
        "5. Update the parameters of the model in the direction of the gradients\n",
        "\n"
      ]
    },
    {
      "cell_type": "markdown",
      "metadata": {
        "id": "d3wMkB-O0oZb"
      },
      "source": [
        "We have seen how we can do step 1, 2 and 4 in PyTorch. Now, we will look at step 3 and 5."
      ]
    },
    {
      "cell_type": "code",
      "execution_count": null,
      "metadata": {
        "id": "4Nmqp2WgmMDd"
      },
      "outputs": [],
      "source": [
        "import torch.nn as nn"
      ]
    },
    {
      "cell_type": "code",
      "execution_count": null,
      "metadata": {
        "id": "TKuAs1akmRp3"
      },
      "outputs": [],
      "source": [
        "loss_module = nn.BCEWithLogitsLoss()"
      ]
    },
    {
      "cell_type": "code",
      "execution_count": null,
      "metadata": {
        "id": "bGkSaEO2yfqU"
      },
      "outputs": [],
      "source": []
    },
    {
      "cell_type": "markdown",
      "metadata": {
        "id": "L8ReQ5bv14aJ"
      },
      "source": [
        "#### Stochastic Gradient Descent\n"
      ]
    },
    {
      "cell_type": "code",
      "execution_count": null,
      "metadata": {
        "id": "JOXVJXrC17WN"
      },
      "outputs": [],
      "source": [
        "optimizer = torch.optim.SGD(model.parameters(), lr=0.1)"
      ]
    },
    {
      "cell_type": "code",
      "execution_count": null,
      "metadata": {
        "id": "X7k4J4oRgDvw"
      },
      "outputs": [],
      "source": [
        "# step\n",
        "optimizer.step()"
      ]
    },
    {
      "cell_type": "code",
      "execution_count": null,
      "metadata": {
        "id": "BFRQ7DbWgE3_"
      },
      "outputs": [],
      "source": [
        "# zero_grad\n",
        "optimizer.zero_grad()"
      ]
    },
    {
      "cell_type": "markdown",
      "metadata": {
        "id": "Ph9YwKWH2FHP"
      },
      "source": [
        "## Training"
      ]
    },
    {
      "cell_type": "code",
      "execution_count": null,
      "metadata": {
        "id": "RtIlGw1J2Gea"
      },
      "outputs": [],
      "source": [
        "# train dataset and loader(\n",
        "train_dataset = XORDataset(size=2500)\n",
        "train_data_loader = DataLoader(train_dataset, batch_size= 64, shuffle=True)"
      ]
    },
    {
      "cell_type": "code",
      "execution_count": null,
      "metadata": {
        "colab": {
          "base_uri": "https://localhost:8080/"
        },
        "id": "9RDmBYVw2TH3",
        "outputId": "e5ef71c0-2df3-45e9-d899-faeebb558521"
      },
      "outputs": [
        {
          "data": {
            "text/plain": [
              "SimpleClassifier(\n",
              "  (linear1): Linear(in_features=2, out_features=4, bias=True)\n",
              "  (act_fn): Tanh()\n",
              "  (linear2): Linear(in_features=4, out_features=1, bias=True)\n",
              ")"
            ]
          },
          "execution_count": 80,
          "metadata": {},
          "output_type": "execute_result"
        }
      ],
      "source": [
        "# deviced\n",
        "model.to(device)"
      ]
    },
    {
      "cell_type": "code",
      "execution_count": null,
      "metadata": {
        "id": "b8xS02dKz4bZ"
      },
      "outputs": [],
      "source": [
        "from tqdm.notebook import tqdm"
      ]
    },
    {
      "cell_type": "code",
      "execution_count": null,
      "metadata": {
        "id": "Yfl7ysMy2bZr"
      },
      "outputs": [],
      "source": [
        "predictions = []"
      ]
    },
    {
      "cell_type": "code",
      "execution_count": null,
      "metadata": {
        "id": "vLE7mKaI2T2l"
      },
      "outputs": [],
      "source": [
        "def model_train(model, optimizer, data_loader, loss_module, num_epochs=100):\n",
        "  model.train()\n",
        "  all_loss = []\n",
        "  current_loss = 0\n",
        "  for epoch in tqdm(range(num_epochs)):\n",
        "    for data_input, data_label in data_loader:\n",
        "\n",
        "      # to device\n",
        "      data_input = data_input.to(device)\n",
        "      data_label = data_label.to(device)\n",
        "\n",
        "      # predict\n",
        "      preds = model(data_input)\n",
        "      # [64, 1] -> [64]\n",
        "      preds = preds.squeeze(dim=1)\n",
        "\n",
        "      loss = loss_module(preds, data_label.float())\n",
        "      current_loss += loss\n",
        "\n",
        "      optimizer.zero_grad()\n",
        "      loss.backward()\n",
        "      optimizer.step()\n",
        "    \n",
        "    all_loss.append(current_loss)\n",
        "    current_loss = 0\n",
        "  \n",
        "  return all_loss\n",
        "    \n"
      ]
    },
    {
      "cell_type": "code",
      "execution_count": null,
      "metadata": {
        "colab": {
          "base_uri": "https://localhost:8080/",
          "height": 49,
          "referenced_widgets": [
            "f0d1229929e846aea318f9562822bbcd",
            "ba5be3ed1e0e48ef8d9a103c3b7f0092",
            "ebf3ce81ed5e4f20b84cb9c8da2e4e05",
            "c42a8eca8c5445c581ea75a208c93b74",
            "aefe4ed96bd4436aa1eaeea074452deb",
            "14474019cbff480b99fa7fc876df93cf",
            "f2166fa061de43299d084dbf2d794f4e",
            "37e56804746745a3a4e5273684de5c8b",
            "38b52b1d6c624fdb93ae86ecea9171d9",
            "ae58a71e9df44cb588fd2cc657950c26",
            "ec6c313be8814c1ab91f87b015aa3408"
          ]
        },
        "id": "Y34iCD-Y0FNn",
        "outputId": "04dbd6f8-06c7-4f4a-d484-a41ce3bf083c"
      },
      "outputs": [
        {
          "data": {
            "application/vnd.jupyter.widget-view+json": {
              "model_id": "f0d1229929e846aea318f9562822bbcd",
              "version_major": 2,
              "version_minor": 0
            },
            "text/plain": [
              "  0%|          | 0/100 [00:00<?, ?it/s]"
            ]
          },
          "metadata": {},
          "output_type": "display_data"
        }
      ],
      "source": [
        "loss = model_train(model, optimizer, train_data_loader, loss_module)"
      ]
    },
    {
      "cell_type": "code",
      "execution_count": null,
      "metadata": {
        "colab": {
          "base_uri": "https://localhost:8080/"
        },
        "id": "0_EYjeclobby",
        "outputId": "4d18a791-be14-41ed-d670-e75ae37fb7f1"
      },
      "outputs": [
        {
          "data": {
            "text/plain": [
              "100"
            ]
          },
          "execution_count": 87,
          "metadata": {},
          "output_type": "execute_result"
        }
      ],
      "source": [
        "# loss\n",
        "len(loss)"
      ]
    },
    {
      "cell_type": "markdown",
      "metadata": {
        "id": "kENRpJYUpb0_"
      },
      "source": [
        "### Plot loss"
      ]
    },
    {
      "cell_type": "code",
      "execution_count": null,
      "metadata": {
        "colab": {
          "base_uri": "https://localhost:8080/",
          "height": 357
        },
        "id": "v5lCSMaF0fXF",
        "outputId": "5bdc2737-a881-4024-de79-731b56c6c08a"
      },
      "outputs": [
        {
          "data": {
            "application/pdf": "[encoded data removed]",
            "image/svg+xml": [
              "<?xml version=\"1.0\" encoding=\"utf-8\" standalone=\"no\"?>\n",
              "<!DOCTYPE svg PUBLIC \"-//W3C//DTD SVG 1.1//EN\"\n",
              "  \"http://www.w3.org/Graphics/SVG/1.1/DTD/svg11.dtd\">\n",
              "<!-- Created with matplotlib (https://matplotlib.org/) -->\n",
              "<svg height=\"251.985937pt\" version=\"1.1\" viewBox=\"0 0 388.31125 251.985937\" width=\"388.31125pt\" xmlns=\"http://www.w3.org/2000/svg\" xmlns:xlink=\"http://www.w3.org/1999/xlink\">\n",
              " <defs>\n",
              "  <style type=\"text/css\">\n",
              "*{stroke-linecap:butt;stroke-linejoin:round;}\n",
              "  </style>\n",
              " </defs>\n",
              " <g id=\"figure_1\">\n",
              "  <g id=\"patch_1\">\n",
              "   <path d=\"M 0 251.985937 \n",
              "L 388.31125 251.985937 \n",
              "L 388.31125 0 \n",
              "L 0 0 \n",
              "z\n",
              "\" style=\"fill:#ffffff;\"/>\n",
              "  </g>\n",
              "  <g id=\"axes_1\">\n",
              "   <g id=\"patch_2\">\n",
              "    <path d=\"M 46.31125 224.64 \n",
              "L 381.11125 224.64 \n",
              "L 381.11125 7.2 \n",
              "L 46.31125 7.2 \n",
              "z\n",
              "\" style=\"fill:#eaeaf2;\"/>\n",
              "   </g>\n",
              "   <g id=\"matplotlib.axis_1\">\n",
              "    <g id=\"xtick_1\">\n",
              "     <g id=\"line2d_1\">\n",
              "      <path clip-path=\"url(#p50498bd681)\" d=\"M 61.529432 224.64 \n",
              "L 61.529432 7.2 \n",
              "\" style=\"fill:none;stroke:#ffffff;stroke-linecap:round;\"/>\n",
              "     </g>\n",
              "     <g id=\"text_1\">\n",
              "      <!-- 0 -->\n",
              "      <defs>\n",
              "       <path d=\"M 31.78125 66.40625 \n",
              "Q 24.171875 66.40625 20.328125 58.90625 \n",
              "Q 16.5 51.421875 16.5 36.375 \n",
              "Q 16.5 21.390625 20.328125 13.890625 \n",
              "Q 24.171875 6.390625 31.78125 6.390625 \n",
              "Q 39.453125 6.390625 43.28125 13.890625 \n",
              "Q 47.125 21.390625 47.125 36.375 \n",
              "Q 47.125 51.421875 43.28125 58.90625 \n",
              "Q 39.453125 66.40625 31.78125 66.40625 \n",
              "z\n",
              "M 31.78125 74.21875 \n",
              "Q 44.046875 74.21875 50.515625 64.515625 \n",
              "Q 56.984375 54.828125 56.984375 36.375 \n",
              "Q 56.984375 17.96875 50.515625 8.265625 \n",
              "Q 44.046875 -1.421875 31.78125 -1.421875 \n",
              "Q 19.53125 -1.421875 13.0625 8.265625 \n",
              "Q 6.59375 17.96875 6.59375 36.375 \n",
              "Q 6.59375 54.828125 13.0625 64.515625 \n",
              "Q 19.53125 74.21875 31.78125 74.21875 \n",
              "z\n",
              "\" id=\"DejaVuSans-48\"/>\n",
              "      </defs>\n",
              "      <g style=\"fill:#262626;\" transform=\"translate(58.030057 242.498281)scale(0.11 -0.11)\">\n",
              "       <use xlink:href=\"#DejaVuSans-48\"/>\n",
              "      </g>\n",
              "     </g>\n",
              "    </g>\n",
              "    <g id=\"xtick_2\">\n",
              "     <g id=\"line2d_2\">\n",
              "      <path clip-path=\"url(#p50498bd681)\" d=\"M 123.017035 224.64 \n",
              "L 123.017035 7.2 \n",
              "\" style=\"fill:none;stroke:#ffffff;stroke-linecap:round;\"/>\n",
              "     </g>\n",
              "     <g id=\"text_2\">\n",
              "      <!-- 20 -->\n",
              "      <defs>\n",
              "       <path d=\"M 19.1875 8.296875 \n",
              "L 53.609375 8.296875 \n",
              "L 53.609375 0 \n",
              "L 7.328125 0 \n",
              "L 7.328125 8.296875 \n",
              "Q 12.9375 14.109375 22.625 23.890625 \n",
              "Q 32.328125 33.6875 34.8125 36.53125 \n",
              "Q 39.546875 41.84375 41.421875 45.53125 \n",
              "Q 43.3125 49.21875 43.3125 52.78125 \n",
              "Q 43.3125 58.59375 39.234375 62.25 \n",
              "Q 35.15625 65.921875 28.609375 65.921875 \n",
              "Q 23.96875 65.921875 18.8125 64.3125 \n",
              "Q 13.671875 62.703125 7.8125 59.421875 \n",
              "L 7.8125 69.390625 \n",
              "Q 13.765625 71.78125 18.9375 73 \n",
              "Q 24.125 74.21875 28.421875 74.21875 \n",
              "Q 39.75 74.21875 46.484375 68.546875 \n",
              "Q 53.21875 62.890625 53.21875 53.421875 \n",
              "Q 53.21875 48.921875 51.53125 44.890625 \n",
              "Q 49.859375 40.875 45.40625 35.40625 \n",
              "Q 44.1875 33.984375 37.640625 27.21875 \n",
              "Q 31.109375 20.453125 19.1875 8.296875 \n",
              "z\n",
              "\" id=\"DejaVuSans-50\"/>\n",
              "      </defs>\n",
              "      <g style=\"fill:#262626;\" transform=\"translate(116.018285 242.498281)scale(0.11 -0.11)\">\n",
              "       <use xlink:href=\"#DejaVuSans-50\"/>\n",
              "       <use x=\"63.623047\" xlink:href=\"#DejaVuSans-48\"/>\n",
              "      </g>\n",
              "     </g>\n",
              "    </g>\n",
              "    <g id=\"xtick_3\">\n",
              "     <g id=\"line2d_3\">\n",
              "      <path clip-path=\"url(#p50498bd681)\" d=\"M 184.504638 224.64 \n",
              "L 184.504638 7.2 \n",
              "\" style=\"fill:none;stroke:#ffffff;stroke-linecap:round;\"/>\n",
              "     </g>\n",
              "     <g id=\"text_3\">\n",
              "      <!-- 40 -->\n",
              "      <defs>\n",
              "       <path d=\"M 37.796875 64.3125 \n",
              "L 12.890625 25.390625 \n",
              "L 37.796875 25.390625 \n",
              "z\n",
              "M 35.203125 72.90625 \n",
              "L 47.609375 72.90625 \n",
              "L 47.609375 25.390625 \n",
              "L 58.015625 25.390625 \n",
              "L 58.015625 17.1875 \n",
              "L 47.609375 17.1875 \n",
              "L 47.609375 0 \n",
              "L 37.796875 0 \n",
              "L 37.796875 17.1875 \n",
              "L 4.890625 17.1875 \n",
              "L 4.890625 26.703125 \n",
              "z\n",
              "\" id=\"DejaVuSans-52\"/>\n",
              "      </defs>\n",
              "      <g style=\"fill:#262626;\" transform=\"translate(177.505888 242.498281)scale(0.11 -0.11)\">\n",
              "       <use xlink:href=\"#DejaVuSans-52\"/>\n",
              "       <use x=\"63.623047\" xlink:href=\"#DejaVuSans-48\"/>\n",
              "      </g>\n",
              "     </g>\n",
              "    </g>\n",
              "    <g id=\"xtick_4\">\n",
              "     <g id=\"line2d_4\">\n",
              "      <path clip-path=\"url(#p50498bd681)\" d=\"M 245.992242 224.64 \n",
              "L 245.992242 7.2 \n",
              "\" style=\"fill:none;stroke:#ffffff;stroke-linecap:round;\"/>\n",
              "     </g>\n",
              "     <g id=\"text_4\">\n",
              "      <!-- 60 -->\n",
              "      <defs>\n",
              "       <path d=\"M 33.015625 40.375 \n",
              "Q 26.375 40.375 22.484375 35.828125 \n",
              "Q 18.609375 31.296875 18.609375 23.390625 \n",
              "Q 18.609375 15.53125 22.484375 10.953125 \n",
              "Q 26.375 6.390625 33.015625 6.390625 \n",
              "Q 39.65625 6.390625 43.53125 10.953125 \n",
              "Q 47.40625 15.53125 47.40625 23.390625 \n",
              "Q 47.40625 31.296875 43.53125 35.828125 \n",
              "Q 39.65625 40.375 33.015625 40.375 \n",
              "z\n",
              "M 52.59375 71.296875 \n",
              "L 52.59375 62.3125 \n",
              "Q 48.875 64.0625 45.09375 64.984375 \n",
              "Q 41.3125 65.921875 37.59375 65.921875 \n",
              "Q 27.828125 65.921875 22.671875 59.328125 \n",
              "Q 17.53125 52.734375 16.796875 39.40625 \n",
              "Q 19.671875 43.65625 24.015625 45.921875 \n",
              "Q 28.375 48.1875 33.59375 48.1875 \n",
              "Q 44.578125 48.1875 50.953125 41.515625 \n",
              "Q 57.328125 34.859375 57.328125 23.390625 \n",
              "Q 57.328125 12.15625 50.6875 5.359375 \n",
              "Q 44.046875 -1.421875 33.015625 -1.421875 \n",
              "Q 20.359375 -1.421875 13.671875 8.265625 \n",
              "Q 6.984375 17.96875 6.984375 36.375 \n",
              "Q 6.984375 53.65625 15.1875 63.9375 \n",
              "Q 23.390625 74.21875 37.203125 74.21875 \n",
              "Q 40.921875 74.21875 44.703125 73.484375 \n",
              "Q 48.484375 72.75 52.59375 71.296875 \n",
              "z\n",
              "\" id=\"DejaVuSans-54\"/>\n",
              "      </defs>\n",
              "      <g style=\"fill:#262626;\" transform=\"translate(238.993492 242.498281)scale(0.11 -0.11)\">\n",
              "       <use xlink:href=\"#DejaVuSans-54\"/>\n",
              "       <use x=\"63.623047\" xlink:href=\"#DejaVuSans-48\"/>\n",
              "      </g>\n",
              "     </g>\n",
              "    </g>\n",
              "    <g id=\"xtick_5\">\n",
              "     <g id=\"line2d_5\">\n",
              "      <path clip-path=\"url(#p50498bd681)\" d=\"M 307.479845 224.64 \n",
              "L 307.479845 7.2 \n",
              "\" style=\"fill:none;stroke:#ffffff;stroke-linecap:round;\"/>\n",
              "     </g>\n",
              "     <g id=\"text_5\">\n",
              "      <!-- 80 -->\n",
              "      <defs>\n",
              "       <path d=\"M 31.78125 34.625 \n",
              "Q 24.75 34.625 20.71875 30.859375 \n",
              "Q 16.703125 27.09375 16.703125 20.515625 \n",
              "Q 16.703125 13.921875 20.71875 10.15625 \n",
              "Q 24.75 6.390625 31.78125 6.390625 \n",
              "Q 38.8125 6.390625 42.859375 10.171875 \n",
              "Q 46.921875 13.96875 46.921875 20.515625 \n",
              "Q 46.921875 27.09375 42.890625 30.859375 \n",
              "Q 38.875 34.625 31.78125 34.625 \n",
              "z\n",
              "M 21.921875 38.8125 \n",
              "Q 15.578125 40.375 12.03125 44.71875 \n",
              "Q 8.5 49.078125 8.5 55.328125 \n",
              "Q 8.5 64.0625 14.71875 69.140625 \n",
              "Q 20.953125 74.21875 31.78125 74.21875 \n",
              "Q 42.671875 74.21875 48.875 69.140625 \n",
              "Q 55.078125 64.0625 55.078125 55.328125 \n",
              "Q 55.078125 49.078125 51.53125 44.71875 \n",
              "Q 48 40.375 41.703125 38.8125 \n",
              "Q 48.828125 37.15625 52.796875 32.3125 \n",
              "Q 56.78125 27.484375 56.78125 20.515625 \n",
              "Q 56.78125 9.90625 50.3125 4.234375 \n",
              "Q 43.84375 -1.421875 31.78125 -1.421875 \n",
              "Q 19.734375 -1.421875 13.25 4.234375 \n",
              "Q 6.78125 9.90625 6.78125 20.515625 \n",
              "Q 6.78125 27.484375 10.78125 32.3125 \n",
              "Q 14.796875 37.15625 21.921875 38.8125 \n",
              "z\n",
              "M 18.3125 54.390625 \n",
              "Q 18.3125 48.734375 21.84375 45.5625 \n",
              "Q 25.390625 42.390625 31.78125 42.390625 \n",
              "Q 38.140625 42.390625 41.71875 45.5625 \n",
              "Q 45.3125 48.734375 45.3125 54.390625 \n",
              "Q 45.3125 60.0625 41.71875 63.234375 \n",
              "Q 38.140625 66.40625 31.78125 66.40625 \n",
              "Q 25.390625 66.40625 21.84375 63.234375 \n",
              "Q 18.3125 60.0625 18.3125 54.390625 \n",
              "z\n",
              "\" id=\"DejaVuSans-56\"/>\n",
              "      </defs>\n",
              "      <g style=\"fill:#262626;\" transform=\"translate(300.481095 242.498281)scale(0.11 -0.11)\">\n",
              "       <use xlink:href=\"#DejaVuSans-56\"/>\n",
              "       <use x=\"63.623047\" xlink:href=\"#DejaVuSans-48\"/>\n",
              "      </g>\n",
              "     </g>\n",
              "    </g>\n",
              "    <g id=\"xtick_6\">\n",
              "     <g id=\"line2d_6\">\n",
              "      <path clip-path=\"url(#p50498bd681)\" d=\"M 368.967448 224.64 \n",
              "L 368.967448 7.2 \n",
              "\" style=\"fill:none;stroke:#ffffff;stroke-linecap:round;\"/>\n",
              "     </g>\n",
              "     <g id=\"text_6\">\n",
              "      <!-- 100 -->\n",
              "      <defs>\n",
              "       <path d=\"M 12.40625 8.296875 \n",
              "L 28.515625 8.296875 \n",
              "L 28.515625 63.921875 \n",
              "L 10.984375 60.40625 \n",
              "L 10.984375 69.390625 \n",
              "L 28.421875 72.90625 \n",
              "L 38.28125 72.90625 \n",
              "L 38.28125 8.296875 \n",
              "L 54.390625 8.296875 \n",
              "L 54.390625 0 \n",
              "L 12.40625 0 \n",
              "z\n",
              "\" id=\"DejaVuSans-49\"/>\n",
              "      </defs>\n",
              "      <g style=\"fill:#262626;\" transform=\"translate(358.469323 242.498281)scale(0.11 -0.11)\">\n",
              "       <use xlink:href=\"#DejaVuSans-49\"/>\n",
              "       <use x=\"63.623047\" xlink:href=\"#DejaVuSans-48\"/>\n",
              "       <use x=\"127.246094\" xlink:href=\"#DejaVuSans-48\"/>\n",
              "      </g>\n",
              "     </g>\n",
              "    </g>\n",
              "   </g>\n",
              "   <g id=\"matplotlib.axis_2\">\n",
              "    <g id=\"ytick_1\">\n",
              "     <g id=\"line2d_7\">\n",
              "      <path clip-path=\"url(#p50498bd681)\" d=\"M 46.31125 217.140606 \n",
              "L 381.11125 217.140606 \n",
              "\" style=\"fill:none;stroke:#ffffff;stroke-linecap:round;\"/>\n",
              "     </g>\n",
              "     <g id=\"text_7\">\n",
              "      <!-- 0 -->\n",
              "      <g style=\"fill:#262626;\" transform=\"translate(29.8125 221.319747)scale(0.11 -0.11)\">\n",
              "       <use xlink:href=\"#DejaVuSans-48\"/>\n",
              "      </g>\n",
              "     </g>\n",
              "    </g>\n",
              "    <g id=\"ytick_2\">\n",
              "     <g id=\"line2d_8\">\n",
              "      <path clip-path=\"url(#p50498bd681)\" d=\"M 46.31125 181.133762 \n",
              "L 381.11125 181.133762 \n",
              "\" style=\"fill:none;stroke:#ffffff;stroke-linecap:round;\"/>\n",
              "     </g>\n",
              "     <g id=\"text_8\">\n",
              "      <!-- 5 -->\n",
              "      <defs>\n",
              "       <path d=\"M 10.796875 72.90625 \n",
              "L 49.515625 72.90625 \n",
              "L 49.515625 64.59375 \n",
              "L 19.828125 64.59375 \n",
              "L 19.828125 46.734375 \n",
              "Q 21.96875 47.46875 24.109375 47.828125 \n",
              "Q 26.265625 48.1875 28.421875 48.1875 \n",
              "Q 40.625 48.1875 47.75 41.5 \n",
              "Q 54.890625 34.8125 54.890625 23.390625 \n",
              "Q 54.890625 11.625 47.5625 5.09375 \n",
              "Q 40.234375 -1.421875 26.90625 -1.421875 \n",
              "Q 22.3125 -1.421875 17.546875 -0.640625 \n",
              "Q 12.796875 0.140625 7.71875 1.703125 \n",
              "L 7.71875 11.625 \n",
              "Q 12.109375 9.234375 16.796875 8.0625 \n",
              "Q 21.484375 6.890625 26.703125 6.890625 \n",
              "Q 35.15625 6.890625 40.078125 11.328125 \n",
              "Q 45.015625 15.765625 45.015625 23.390625 \n",
              "Q 45.015625 31 40.078125 35.4375 \n",
              "Q 35.15625 39.890625 26.703125 39.890625 \n",
              "Q 22.75 39.890625 18.8125 39.015625 \n",
              "Q 14.890625 38.140625 10.796875 36.28125 \n",
              "z\n",
              "\" id=\"DejaVuSans-53\"/>\n",
              "      </defs>\n",
              "      <g style=\"fill:#262626;\" transform=\"translate(29.8125 185.312903)scale(0.11 -0.11)\">\n",
              "       <use xlink:href=\"#DejaVuSans-53\"/>\n",
              "      </g>\n",
              "     </g>\n",
              "    </g>\n",
              "    <g id=\"ytick_3\">\n",
              "     <g id=\"line2d_9\">\n",
              "      <path clip-path=\"url(#p50498bd681)\" d=\"M 46.31125 145.126918 \n",
              "L 381.11125 145.126918 \n",
              "\" style=\"fill:none;stroke:#ffffff;stroke-linecap:round;\"/>\n",
              "     </g>\n",
              "     <g id=\"text_9\">\n",
              "      <!-- 10 -->\n",
              "      <g style=\"fill:#262626;\" transform=\"translate(22.81375 149.306059)scale(0.11 -0.11)\">\n",
              "       <use xlink:href=\"#DejaVuSans-49\"/>\n",
              "       <use x=\"63.623047\" xlink:href=\"#DejaVuSans-48\"/>\n",
              "      </g>\n",
              "     </g>\n",
              "    </g>\n",
              "    <g id=\"ytick_4\">\n",
              "     <g id=\"line2d_10\">\n",
              "      <path clip-path=\"url(#p50498bd681)\" d=\"M 46.31125 109.120074 \n",
              "L 381.11125 109.120074 \n",
              "\" style=\"fill:none;stroke:#ffffff;stroke-linecap:round;\"/>\n",
              "     </g>\n",
              "     <g id=\"text_10\">\n",
              "      <!-- 15 -->\n",
              "      <g style=\"fill:#262626;\" transform=\"translate(22.81375 113.299215)scale(0.11 -0.11)\">\n",
              "       <use xlink:href=\"#DejaVuSans-49\"/>\n",
              "       <use x=\"63.623047\" xlink:href=\"#DejaVuSans-53\"/>\n",
              "      </g>\n",
              "     </g>\n",
              "    </g>\n",
              "    <g id=\"ytick_5\">\n",
              "     <g id=\"line2d_11\">\n",
              "      <path clip-path=\"url(#p50498bd681)\" d=\"M 46.31125 73.11323 \n",
              "L 381.11125 73.11323 \n",
              "\" style=\"fill:none;stroke:#ffffff;stroke-linecap:round;\"/>\n",
              "     </g>\n",
              "     <g id=\"text_11\">\n",
              "      <!-- 20 -->\n",
              "      <g style=\"fill:#262626;\" transform=\"translate(22.81375 77.292371)scale(0.11 -0.11)\">\n",
              "       <use xlink:href=\"#DejaVuSans-50\"/>\n",
              "       <use x=\"63.623047\" xlink:href=\"#DejaVuSans-48\"/>\n",
              "      </g>\n",
              "     </g>\n",
              "    </g>\n",
              "    <g id=\"ytick_6\">\n",
              "     <g id=\"line2d_12\">\n",
              "      <path clip-path=\"url(#p50498bd681)\" d=\"M 46.31125 37.106386 \n",
              "L 381.11125 37.106386 \n",
              "\" style=\"fill:none;stroke:#ffffff;stroke-linecap:round;\"/>\n",
              "     </g>\n",
              "     <g id=\"text_12\">\n",
              "      <!-- 25 -->\n",
              "      <g style=\"fill:#262626;\" transform=\"translate(22.81375 41.285527)scale(0.11 -0.11)\">\n",
              "       <use xlink:href=\"#DejaVuSans-50\"/>\n",
              "       <use x=\"63.623047\" xlink:href=\"#DejaVuSans-53\"/>\n",
              "      </g>\n",
              "     </g>\n",
              "    </g>\n",
              "    <g id=\"text_13\">\n",
              "     <!-- Loss -->\n",
              "     <defs>\n",
              "      <path d=\"M 9.8125 72.90625 \n",
              "L 19.671875 72.90625 \n",
              "L 19.671875 8.296875 \n",
              "L 55.171875 8.296875 \n",
              "L 55.171875 0 \n",
              "L 9.8125 0 \n",
              "z\n",
              "\" id=\"DejaVuSans-76\"/>\n",
              "      <path d=\"M 30.609375 48.390625 \n",
              "Q 23.390625 48.390625 19.1875 42.75 \n",
              "Q 14.984375 37.109375 14.984375 27.296875 \n",
              "Q 14.984375 17.484375 19.15625 11.84375 \n",
              "Q 23.34375 6.203125 30.609375 6.203125 \n",
              "Q 37.796875 6.203125 41.984375 11.859375 \n",
              "Q 46.1875 17.53125 46.1875 27.296875 \n",
              "Q 46.1875 37.015625 41.984375 42.703125 \n",
              "Q 37.796875 48.390625 30.609375 48.390625 \n",
              "z\n",
              "M 30.609375 56 \n",
              "Q 42.328125 56 49.015625 48.375 \n",
              "Q 55.71875 40.765625 55.71875 27.296875 \n",
              "Q 55.71875 13.875 49.015625 6.21875 \n",
              "Q 42.328125 -1.421875 30.609375 -1.421875 \n",
              "Q 18.84375 -1.421875 12.171875 6.21875 \n",
              "Q 5.515625 13.875 5.515625 27.296875 \n",
              "Q 5.515625 40.765625 12.171875 48.375 \n",
              "Q 18.84375 56 30.609375 56 \n",
              "z\n",
              "\" id=\"DejaVuSans-111\"/>\n",
              "      <path d=\"M 44.28125 53.078125 \n",
              "L 44.28125 44.578125 \n",
              "Q 40.484375 46.53125 36.375 47.5 \n",
              "Q 32.28125 48.484375 27.875 48.484375 \n",
              "Q 21.1875 48.484375 17.84375 46.4375 \n",
              "Q 14.5 44.390625 14.5 40.28125 \n",
              "Q 14.5 37.15625 16.890625 35.375 \n",
              "Q 19.28125 33.59375 26.515625 31.984375 \n",
              "L 29.59375 31.296875 \n",
              "Q 39.15625 29.25 43.1875 25.515625 \n",
              "Q 47.21875 21.78125 47.21875 15.09375 \n",
              "Q 47.21875 7.46875 41.1875 3.015625 \n",
              "Q 35.15625 -1.421875 24.609375 -1.421875 \n",
              "Q 20.21875 -1.421875 15.453125 -0.5625 \n",
              "Q 10.6875 0.296875 5.421875 2 \n",
              "L 5.421875 11.28125 \n",
              "Q 10.40625 8.6875 15.234375 7.390625 \n",
              "Q 20.0625 6.109375 24.8125 6.109375 \n",
              "Q 31.15625 6.109375 34.5625 8.28125 \n",
              "Q 37.984375 10.453125 37.984375 14.40625 \n",
              "Q 37.984375 18.0625 35.515625 20.015625 \n",
              "Q 33.0625 21.96875 24.703125 23.78125 \n",
              "L 21.578125 24.515625 \n",
              "Q 13.234375 26.265625 9.515625 29.90625 \n",
              "Q 5.8125 33.546875 5.8125 39.890625 \n",
              "Q 5.8125 47.609375 11.28125 51.796875 \n",
              "Q 16.75 56 26.8125 56 \n",
              "Q 31.78125 56 36.171875 55.265625 \n",
              "Q 40.578125 54.546875 44.28125 53.078125 \n",
              "z\n",
              "\" id=\"DejaVuSans-115\"/>\n",
              "     </defs>\n",
              "     <g style=\"fill:#262626;\" transform=\"translate(16.318125 129.080625)rotate(-90)scale(0.12 -0.12)\">\n",
              "      <use xlink:href=\"#DejaVuSans-76\"/>\n",
              "      <use x=\"53.962891\" xlink:href=\"#DejaVuSans-111\"/>\n",
              "      <use x=\"115.144531\" xlink:href=\"#DejaVuSans-115\"/>\n",
              "      <use x=\"167.244141\" xlink:href=\"#DejaVuSans-115\"/>\n",
              "     </g>\n",
              "    </g>\n",
              "   </g>\n",
              "   <g id=\"line2d_13\">\n",
              "    <path clip-path=\"url(#p50498bd681)\" d=\"M 61.529432 17.083636 \n",
              "L 64.603812 19.199113 \n",
              "L 67.678192 20.475143 \n",
              "L 70.752572 21.991187 \n",
              "L 73.826952 24.259567 \n",
              "L 76.901333 27.432129 \n",
              "L 79.975713 33.437876 \n",
              "L 83.050093 41.712799 \n",
              "L 86.124473 54.32404 \n",
              "L 89.198853 70.757959 \n",
              "L 92.273233 90.227099 \n",
              "L 95.347614 110.815037 \n",
              "L 98.421994 129.53772 \n",
              "L 101.496374 145.160522 \n",
              "L 104.570754 157.350406 \n",
              "L 107.645134 167.046897 \n",
              "L 110.719514 174.172806 \n",
              "L 113.793895 180.37801 \n",
              "L 116.868275 184.953772 \n",
              "L 119.942655 188.054353 \n",
              "L 123.017035 191.533241 \n",
              "L 126.091415 193.281119 \n",
              "L 129.165795 195.984853 \n",
              "L 132.240176 197.467261 \n",
              "L 135.314556 199.481271 \n",
              "L 138.388936 200.689702 \n",
              "L 141.463316 201.678177 \n",
              "L 144.537696 202.783164 \n",
              "L 147.612076 203.740797 \n",
              "L 150.686457 204.456617 \n",
              "L 153.760837 205.282026 \n",
              "L 156.835217 205.56799 \n",
              "L 159.909597 206.399398 \n",
              "L 162.983977 206.973578 \n",
              "L 166.058357 207.44301 \n",
              "L 169.132738 207.792818 \n",
              "L 172.207118 208.152434 \n",
              "L 175.281498 208.585244 \n",
              "L 178.355878 208.971769 \n",
              "L 181.430258 209.318988 \n",
              "L 184.504638 209.610557 \n",
              "L 187.579019 209.721546 \n",
              "L 190.653399 210.100712 \n",
              "L 193.727779 210.152748 \n",
              "L 196.802159 210.511074 \n",
              "L 199.876539 210.724145 \n",
              "L 202.950919 210.927962 \n",
              "L 206.0253 211.078759 \n",
              "L 209.09968 211.251297 \n",
              "L 212.17406 211.445489 \n",
              "L 215.24844 211.591751 \n",
              "L 218.32282 211.751823 \n",
              "L 221.3972 211.909668 \n",
              "L 224.471581 212.037039 \n",
              "L 227.545961 212.101515 \n",
              "L 230.620341 212.211159 \n",
              "L 233.694721 212.397195 \n",
              "L 236.769101 212.475725 \n",
              "L 239.843481 212.594148 \n",
              "L 242.917862 212.653926 \n",
              "L 245.992242 212.805419 \n",
              "L 249.066622 212.888442 \n",
              "L 252.141002 212.388068 \n",
              "L 255.215382 212.972435 \n",
              "L 258.289762 213.028318 \n",
              "L 261.364143 213.165332 \n",
              "L 264.438523 213.230567 \n",
              "L 267.512903 213.383999 \n",
              "L 270.587283 213.416316 \n",
              "L 273.661663 213.503971 \n",
              "L 276.736043 213.572161 \n",
              "L 279.810424 213.632506 \n",
              "L 282.884804 213.687524 \n",
              "L 285.959184 213.732486 \n",
              "L 289.033564 213.796826 \n",
              "L 292.107944 213.748753 \n",
              "L 295.182324 213.877637 \n",
              "L 298.256705 213.910862 \n",
              "L 301.331085 213.977084 \n",
              "L 304.405465 214.052407 \n",
              "L 307.479845 214.129552 \n",
              "L 310.554225 214.157935 \n",
              "L 313.628605 214.15524 \n",
              "L 316.702986 214.238326 \n",
              "L 319.777366 214.262349 \n",
              "L 322.851746 214.323686 \n",
              "L 325.926126 214.338831 \n",
              "L 329.000506 214.399609 \n",
              "L 332.074886 214.421476 \n",
              "L 335.149267 214.452275 \n",
              "L 338.223647 214.472056 \n",
              "L 341.298027 214.545572 \n",
              "L 344.372407 214.553356 \n",
              "L 347.446787 214.577695 \n",
              "L 350.521167 214.646579 \n",
              "L 353.595548 214.645544 \n",
              "L 356.669928 214.688205 \n",
              "L 359.744308 214.720976 \n",
              "L 362.818688 214.756364 \n",
              "L 365.893068 214.732407 \n",
              "\" style=\"fill:none;stroke:#4c72b0;stroke-linecap:round;stroke-width:1.5;\"/>\n",
              "   </g>\n",
              "   <g id=\"patch_3\">\n",
              "    <path d=\"M 46.31125 224.64 \n",
              "L 46.31125 7.2 \n",
              "\" style=\"fill:none;stroke:#ffffff;stroke-linecap:square;stroke-linejoin:miter;stroke-width:1.25;\"/>\n",
              "   </g>\n",
              "   <g id=\"patch_4\">\n",
              "    <path d=\"M 381.11125 224.64 \n",
              "L 381.11125 7.2 \n",
              "\" style=\"fill:none;stroke:#ffffff;stroke-linecap:square;stroke-linejoin:miter;stroke-width:1.25;\"/>\n",
              "   </g>\n",
              "   <g id=\"patch_5\">\n",
              "    <path d=\"M 46.31125 224.64 \n",
              "L 381.11125 224.64 \n",
              "\" style=\"fill:none;stroke:#ffffff;stroke-linecap:square;stroke-linejoin:miter;stroke-width:1.25;\"/>\n",
              "   </g>\n",
              "   <g id=\"patch_6\">\n",
              "    <path d=\"M 46.31125 7.2 \n",
              "L 381.11125 7.2 \n",
              "\" style=\"fill:none;stroke:#ffffff;stroke-linecap:square;stroke-linejoin:miter;stroke-width:1.25;\"/>\n",
              "   </g>\n",
              "  </g>\n",
              " </g>\n",
              " <defs>\n",
              "  <clipPath id=\"p50498bd681\">\n",
              "   <rect height=\"217.44\" width=\"334.8\" x=\"46.31125\" y=\"7.2\"/>\n",
              "  </clipPath>\n",
              " </defs>\n",
              "</svg>\n"
            ],
            "text/plain": [
              "<Figure size 432x288 with 1 Axes>"
            ]
          },
          "metadata": {},
          "output_type": "display_data"
        }
      ],
      "source": [
        "import matplotlib.pyplot as plt\n",
        "plt.plot(torch.Tensor(loss))\n",
        "plt.ylabel('Loss')\n",
        "plt.show()"
      ]
    },
    {
      "cell_type": "markdown",
      "metadata": {
        "id": "-AkiRCwtp0fv"
      },
      "source": [
        "#### Predict"
      ]
    },
    {
      "cell_type": "code",
      "execution_count": null,
      "metadata": {
        "id": "5q2OlFuFoaKS"
      },
      "outputs": [],
      "source": [
        "# model.eval"
      ]
    },
    {
      "cell_type": "code",
      "execution_count": null,
      "metadata": {
        "colab": {
          "base_uri": "https://localhost:8080/"
        },
        "id": "IEXCNfPNqPmZ",
        "outputId": "c80f8c48-ba08-4ff8-ad3d-a56d5551b749"
      },
      "outputs": [
        {
          "data": {
            "text/plain": [
              "SimpleClassifier(\n",
              "  (linear1): Linear(in_features=2, out_features=4, bias=True)\n",
              "  (act_fn): Tanh()\n",
              "  (linear2): Linear(in_features=4, out_features=1, bias=True)\n",
              ")"
            ]
          },
          "execution_count": 89,
          "metadata": {},
          "output_type": "execute_result"
        }
      ],
      "source": [
        "model.eval()"
      ]
    },
    {
      "cell_type": "code",
      "execution_count": null,
      "metadata": {
        "colab": {
          "base_uri": "https://localhost:8080/"
        },
        "id": "3c5ABNzY3gV8",
        "outputId": "21d75318-a60f-4821-ede6-a49b8e984794"
      },
      "outputs": [
        {
          "data": {
            "text/plain": [
              "tensor([-7.1739], device='cuda:0', grad_fn=<AddBackward0>)"
            ]
          },
          "execution_count": 91,
          "metadata": {},
          "output_type": "execute_result"
        }
      ],
      "source": [
        "model(torch.Tensor([0,0]).to(device))"
      ]
    },
    {
      "cell_type": "code",
      "execution_count": null,
      "metadata": {
        "colab": {
          "base_uri": "https://localhost:8080/"
        },
        "id": "uujsF_ve3ms7",
        "outputId": "7271f9b1-974d-4d09-cd99-9d2fdef86cb2"
      },
      "outputs": [
        {
          "data": {
            "text/plain": [
              "tensor([-4.6252], device='cuda:0', grad_fn=<AddBackward0>)"
            ]
          },
          "execution_count": 93,
          "metadata": {},
          "output_type": "execute_result"
        }
      ],
      "source": [
        "model(torch.Tensor([1,1]).to(device))"
      ]
    },
    {
      "cell_type": "code",
      "execution_count": null,
      "metadata": {
        "id": "mXaPCjCE3vVq"
      },
      "outputs": [],
      "source": []
    }
  ],
  "metadata": {
    "accelerator": "GPU",
    "colab": {
      "name": "pytorch_toturial (1).ipynb",
      "provenance": []
    },
    "gpuClass": "standard",
    "kernelspec": {
      "display_name": "Python 3",
      "name": "python3"
    },
    "language_info": {
      "codemirror_mode": {
        "name": "ipython",
        "version": 3
      },
      "file_extension": ".py",
      "mimetype": "text/x-python",
      "name": "python",
      "nbconvert_exporter": "python",
      "pygments_lexer": "ipython3",
      "version": "3.10.9"
    },
    "widgets": {
      "application/vnd.jupyter.widget-state+json": {
        "14474019cbff480b99fa7fc876df93cf": {
          "model_module": "@jupyter-widgets/base",
          "model_module_version": "1.2.0",
          "model_name": "LayoutModel",
          "state": {
            "_model_module": "@jupyter-widgets/base",
            "_model_module_version": "1.2.0",
            "_model_name": "LayoutModel",
            "_view_count": null,
            "_view_module": "@jupyter-widgets/base",
            "_view_module_version": "1.2.0",
            "_view_name": "LayoutView",
            "align_content": null,
            "align_items": null,
            "align_self": null,
            "border": null,
            "bottom": null,
            "display": null,
            "flex": null,
            "flex_flow": null,
            "grid_area": null,
            "grid_auto_columns": null,
            "grid_auto_flow": null,
            "grid_auto_rows": null,
            "grid_column": null,
            "grid_gap": null,
            "grid_row": null,
            "grid_template_areas": null,
            "grid_template_columns": null,
            "grid_template_rows": null,
            "height": null,
            "justify_content": null,
            "justify_items": null,
            "left": null,
            "margin": null,
            "max_height": null,
            "max_width": null,
            "min_height": null,
            "min_width": null,
            "object_fit": null,
            "object_position": null,
            "order": null,
            "overflow": null,
            "overflow_x": null,
            "overflow_y": null,
            "padding": null,
            "right": null,
            "top": null,
            "visibility": null,
            "width": null
          }
        },
        "37e56804746745a3a4e5273684de5c8b": {
          "model_module": "@jupyter-widgets/base",
          "model_module_version": "1.2.0",
          "model_name": "LayoutModel",
          "state": {
            "_model_module": "@jupyter-widgets/base",
            "_model_module_version": "1.2.0",
            "_model_name": "LayoutModel",
            "_view_count": null,
            "_view_module": "@jupyter-widgets/base",
            "_view_module_version": "1.2.0",
            "_view_name": "LayoutView",
            "align_content": null,
            "align_items": null,
            "align_self": null,
            "border": null,
            "bottom": null,
            "display": null,
            "flex": null,
            "flex_flow": null,
            "grid_area": null,
            "grid_auto_columns": null,
            "grid_auto_flow": null,
            "grid_auto_rows": null,
            "grid_column": null,
            "grid_gap": null,
            "grid_row": null,
            "grid_template_areas": null,
            "grid_template_columns": null,
            "grid_template_rows": null,
            "height": null,
            "justify_content": null,
            "justify_items": null,
            "left": null,
            "margin": null,
            "max_height": null,
            "max_width": null,
            "min_height": null,
            "min_width": null,
            "object_fit": null,
            "object_position": null,
            "order": null,
            "overflow": null,
            "overflow_x": null,
            "overflow_y": null,
            "padding": null,
            "right": null,
            "top": null,
            "visibility": null,
            "width": null
          }
        },
        "38b52b1d6c624fdb93ae86ecea9171d9": {
          "model_module": "@jupyter-widgets/controls",
          "model_module_version": "1.5.0",
          "model_name": "ProgressStyleModel",
          "state": {
            "_model_module": "@jupyter-widgets/controls",
            "_model_module_version": "1.5.0",
            "_model_name": "ProgressStyleModel",
            "_view_count": null,
            "_view_module": "@jupyter-widgets/base",
            "_view_module_version": "1.2.0",
            "_view_name": "StyleView",
            "bar_color": null,
            "description_width": ""
          }
        },
        "ae58a71e9df44cb588fd2cc657950c26": {
          "model_module": "@jupyter-widgets/base",
          "model_module_version": "1.2.0",
          "model_name": "LayoutModel",
          "state": {
            "_model_module": "@jupyter-widgets/base",
            "_model_module_version": "1.2.0",
            "_model_name": "LayoutModel",
            "_view_count": null,
            "_view_module": "@jupyter-widgets/base",
            "_view_module_version": "1.2.0",
            "_view_name": "LayoutView",
            "align_content": null,
            "align_items": null,
            "align_self": null,
            "border": null,
            "bottom": null,
            "display": null,
            "flex": null,
            "flex_flow": null,
            "grid_area": null,
            "grid_auto_columns": null,
            "grid_auto_flow": null,
            "grid_auto_rows": null,
            "grid_column": null,
            "grid_gap": null,
            "grid_row": null,
            "grid_template_areas": null,
            "grid_template_columns": null,
            "grid_template_rows": null,
            "height": null,
            "justify_content": null,
            "justify_items": null,
            "left": null,
            "margin": null,
            "max_height": null,
            "max_width": null,
            "min_height": null,
            "min_width": null,
            "object_fit": null,
            "object_position": null,
            "order": null,
            "overflow": null,
            "overflow_x": null,
            "overflow_y": null,
            "padding": null,
            "right": null,
            "top": null,
            "visibility": null,
            "width": null
          }
        },
        "aefe4ed96bd4436aa1eaeea074452deb": {
          "model_module": "@jupyter-widgets/base",
          "model_module_version": "1.2.0",
          "model_name": "LayoutModel",
          "state": {
            "_model_module": "@jupyter-widgets/base",
            "_model_module_version": "1.2.0",
            "_model_name": "LayoutModel",
            "_view_count": null,
            "_view_module": "@jupyter-widgets/base",
            "_view_module_version": "1.2.0",
            "_view_name": "LayoutView",
            "align_content": null,
            "align_items": null,
            "align_self": null,
            "border": null,
            "bottom": null,
            "display": null,
            "flex": null,
            "flex_flow": null,
            "grid_area": null,
            "grid_auto_columns": null,
            "grid_auto_flow": null,
            "grid_auto_rows": null,
            "grid_column": null,
            "grid_gap": null,
            "grid_row": null,
            "grid_template_areas": null,
            "grid_template_columns": null,
            "grid_template_rows": null,
            "height": null,
            "justify_content": null,
            "justify_items": null,
            "left": null,
            "margin": null,
            "max_height": null,
            "max_width": null,
            "min_height": null,
            "min_width": null,
            "object_fit": null,
            "object_position": null,
            "order": null,
            "overflow": null,
            "overflow_x": null,
            "overflow_y": null,
            "padding": null,
            "right": null,
            "top": null,
            "visibility": null,
            "width": null
          }
        },
        "ba5be3ed1e0e48ef8d9a103c3b7f0092": {
          "model_module": "@jupyter-widgets/controls",
          "model_module_version": "1.5.0",
          "model_name": "HTMLModel",
          "state": {
            "_dom_classes": [],
            "_model_module": "@jupyter-widgets/controls",
            "_model_module_version": "1.5.0",
            "_model_name": "HTMLModel",
            "_view_count": null,
            "_view_module": "@jupyter-widgets/controls",
            "_view_module_version": "1.5.0",
            "_view_name": "HTMLView",
            "description": "",
            "description_tooltip": null,
            "layout": "IPY_MODEL_14474019cbff480b99fa7fc876df93cf",
            "placeholder": "​",
            "style": "IPY_MODEL_f2166fa061de43299d084dbf2d794f4e",
            "value": "100%"
          }
        },
        "c42a8eca8c5445c581ea75a208c93b74": {
          "model_module": "@jupyter-widgets/controls",
          "model_module_version": "1.5.0",
          "model_name": "HTMLModel",
          "state": {
            "_dom_classes": [],
            "_model_module": "@jupyter-widgets/controls",
            "_model_module_version": "1.5.0",
            "_model_name": "HTMLModel",
            "_view_count": null,
            "_view_module": "@jupyter-widgets/controls",
            "_view_module_version": "1.5.0",
            "_view_name": "HTMLView",
            "description": "",
            "description_tooltip": null,
            "layout": "IPY_MODEL_ae58a71e9df44cb588fd2cc657950c26",
            "placeholder": "​",
            "style": "IPY_MODEL_ec6c313be8814c1ab91f87b015aa3408",
            "value": " 100/100 [00:05&lt;00:00, 18.77it/s]"
          }
        },
        "ebf3ce81ed5e4f20b84cb9c8da2e4e05": {
          "model_module": "@jupyter-widgets/controls",
          "model_module_version": "1.5.0",
          "model_name": "FloatProgressModel",
          "state": {
            "_dom_classes": [],
            "_model_module": "@jupyter-widgets/controls",
            "_model_module_version": "1.5.0",
            "_model_name": "FloatProgressModel",
            "_view_count": null,
            "_view_module": "@jupyter-widgets/controls",
            "_view_module_version": "1.5.0",
            "_view_name": "ProgressView",
            "bar_style": "success",
            "description": "",
            "description_tooltip": null,
            "layout": "IPY_MODEL_37e56804746745a3a4e5273684de5c8b",
            "max": 100,
            "min": 0,
            "orientation": "horizontal",
            "style": "IPY_MODEL_38b52b1d6c624fdb93ae86ecea9171d9",
            "value": 100
          }
        },
        "ec6c313be8814c1ab91f87b015aa3408": {
          "model_module": "@jupyter-widgets/controls",
          "model_module_version": "1.5.0",
          "model_name": "DescriptionStyleModel",
          "state": {
            "_model_module": "@jupyter-widgets/controls",
            "_model_module_version": "1.5.0",
            "_model_name": "DescriptionStyleModel",
            "_view_count": null,
            "_view_module": "@jupyter-widgets/base",
            "_view_module_version": "1.2.0",
            "_view_name": "StyleView",
            "description_width": ""
          }
        },
        "f0d1229929e846aea318f9562822bbcd": {
          "model_module": "@jupyter-widgets/controls",
          "model_module_version": "1.5.0",
          "model_name": "HBoxModel",
          "state": {
            "_dom_classes": [],
            "_model_module": "@jupyter-widgets/controls",
            "_model_module_version": "1.5.0",
            "_model_name": "HBoxModel",
            "_view_count": null,
            "_view_module": "@jupyter-widgets/controls",
            "_view_module_version": "1.5.0",
            "_view_name": "HBoxView",
            "box_style": "",
            "children": [
              "IPY_MODEL_ba5be3ed1e0e48ef8d9a103c3b7f0092",
              "IPY_MODEL_ebf3ce81ed5e4f20b84cb9c8da2e4e05",
              "IPY_MODEL_c42a8eca8c5445c581ea75a208c93b74"
            ],
            "layout": "IPY_MODEL_aefe4ed96bd4436aa1eaeea074452deb"
          }
        },
        "f2166fa061de43299d084dbf2d794f4e": {
          "model_module": "@jupyter-widgets/controls",
          "model_module_version": "1.5.0",
          "model_name": "DescriptionStyleModel",
          "state": {
            "_model_module": "@jupyter-widgets/controls",
            "_model_module_version": "1.5.0",
            "_model_name": "DescriptionStyleModel",
            "_view_count": null,
            "_view_module": "@jupyter-widgets/base",
            "_view_module_version": "1.2.0",
            "_view_name": "StyleView",
            "description_width": ""
          }
        }
      }
    }
  },
  "nbformat": 4,
  "nbformat_minor": 0
}
